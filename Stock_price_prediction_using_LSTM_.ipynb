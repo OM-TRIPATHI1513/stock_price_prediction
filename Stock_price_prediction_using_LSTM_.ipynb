{
  "cells": [
    {
      "cell_type": "code",
      "execution_count": null,
      "metadata": {
        "id": "tI2btmjjYvn7"
      },
      "outputs": [],
      "source": [
        "import numpy\n",
        "import pandas as pd\n",
        "import pandas_datareader as pdr\n",
        "from sklearn.model_selection import train_test_split\n",
        "from keras.models import Sequential\n",
        "from keras.layers import LSTM, Dense, Dropout\n",
        "from sklearn.preprocessing import MinMaxScaler\n",
        "import matplotlib.pyplot as plt\n",
        "import math\n",
        "from sklearn.metrics import mean_squared_error\n",
        "import yfinance as yf"
      ]
    },
    {
      "cell_type": "code",
      "execution_count": null,
      "metadata": {
        "colab": {
          "base_uri": "https://localhost:8080/",
          "height": 206
        },
        "id": "hYnw3R_cbkjL",
        "outputId": "811afcac-d0c4-479a-cda3-630917fc368f"
      },
      "outputs": [
        {
          "output_type": "execute_result",
          "data": {
            "text/plain": [
              "        Open       High        Low      Close     Volume\n",
              "0  22.821436  22.874712  22.517329  22.559504  245266000\n",
              "1  22.153280  22.477366  21.951280  22.388575  267632400\n",
              "2  22.479593  22.597242  22.328648  22.548407  243706000\n",
              "3  22.626093  22.719323  22.543961  22.595016  149197600\n",
              "4  22.706006  22.719324  22.308667  22.410776  283609600"
            ],
            "text/html": [
              "\n",
              "  <div id=\"df-355fc885-8de8-4470-8075-7bbf4f2110d6\" class=\"colab-df-container\">\n",
              "    <div>\n",
              "<style scoped>\n",
              "    .dataframe tbody tr th:only-of-type {\n",
              "        vertical-align: middle;\n",
              "    }\n",
              "\n",
              "    .dataframe tbody tr th {\n",
              "        vertical-align: top;\n",
              "    }\n",
              "\n",
              "    .dataframe thead th {\n",
              "        text-align: right;\n",
              "    }\n",
              "</style>\n",
              "<table border=\"1\" class=\"dataframe\">\n",
              "  <thead>\n",
              "    <tr style=\"text-align: right;\">\n",
              "      <th></th>\n",
              "      <th>Open</th>\n",
              "      <th>High</th>\n",
              "      <th>Low</th>\n",
              "      <th>Close</th>\n",
              "      <th>Volume</th>\n",
              "    </tr>\n",
              "  </thead>\n",
              "  <tbody>\n",
              "    <tr>\n",
              "      <th>0</th>\n",
              "      <td>22.821436</td>\n",
              "      <td>22.874712</td>\n",
              "      <td>22.517329</td>\n",
              "      <td>22.559504</td>\n",
              "      <td>245266000</td>\n",
              "    </tr>\n",
              "    <tr>\n",
              "      <th>1</th>\n",
              "      <td>22.153280</td>\n",
              "      <td>22.477366</td>\n",
              "      <td>21.951280</td>\n",
              "      <td>22.388575</td>\n",
              "      <td>267632400</td>\n",
              "    </tr>\n",
              "    <tr>\n",
              "      <th>2</th>\n",
              "      <td>22.479593</td>\n",
              "      <td>22.597242</td>\n",
              "      <td>22.328648</td>\n",
              "      <td>22.548407</td>\n",
              "      <td>243706000</td>\n",
              "    </tr>\n",
              "    <tr>\n",
              "      <th>3</th>\n",
              "      <td>22.626093</td>\n",
              "      <td>22.719323</td>\n",
              "      <td>22.543961</td>\n",
              "      <td>22.595016</td>\n",
              "      <td>149197600</td>\n",
              "    </tr>\n",
              "    <tr>\n",
              "      <th>4</th>\n",
              "      <td>22.706006</td>\n",
              "      <td>22.719324</td>\n",
              "      <td>22.308667</td>\n",
              "      <td>22.410776</td>\n",
              "      <td>283609600</td>\n",
              "    </tr>\n",
              "  </tbody>\n",
              "</table>\n",
              "</div>\n",
              "    <div class=\"colab-df-buttons\">\n",
              "\n",
              "  <div class=\"colab-df-container\">\n",
              "    <button class=\"colab-df-convert\" onclick=\"convertToInteractive('df-355fc885-8de8-4470-8075-7bbf4f2110d6')\"\n",
              "            title=\"Convert this dataframe to an interactive table.\"\n",
              "            style=\"display:none;\">\n",
              "\n",
              "  <svg xmlns=\"http://www.w3.org/2000/svg\" height=\"24px\" viewBox=\"0 -960 960 960\">\n",
              "    <path d=\"M120-120v-720h720v720H120Zm60-500h600v-160H180v160Zm220 220h160v-160H400v160Zm0 220h160v-160H400v160ZM180-400h160v-160H180v160Zm440 0h160v-160H620v160ZM180-180h160v-160H180v160Zm440 0h160v-160H620v160Z\"/>\n",
              "  </svg>\n",
              "    </button>\n",
              "\n",
              "  <style>\n",
              "    .colab-df-container {\n",
              "      display:flex;\n",
              "      gap: 12px;\n",
              "    }\n",
              "\n",
              "    .colab-df-convert {\n",
              "      background-color: #E8F0FE;\n",
              "      border: none;\n",
              "      border-radius: 50%;\n",
              "      cursor: pointer;\n",
              "      display: none;\n",
              "      fill: #1967D2;\n",
              "      height: 32px;\n",
              "      padding: 0 0 0 0;\n",
              "      width: 32px;\n",
              "    }\n",
              "\n",
              "    .colab-df-convert:hover {\n",
              "      background-color: #E2EBFA;\n",
              "      box-shadow: 0px 1px 2px rgba(60, 64, 67, 0.3), 0px 1px 3px 1px rgba(60, 64, 67, 0.15);\n",
              "      fill: #174EA6;\n",
              "    }\n",
              "\n",
              "    .colab-df-buttons div {\n",
              "      margin-bottom: 4px;\n",
              "    }\n",
              "\n",
              "    [theme=dark] .colab-df-convert {\n",
              "      background-color: #3B4455;\n",
              "      fill: #D2E3FC;\n",
              "    }\n",
              "\n",
              "    [theme=dark] .colab-df-convert:hover {\n",
              "      background-color: #434B5C;\n",
              "      box-shadow: 0px 1px 3px 1px rgba(0, 0, 0, 0.15);\n",
              "      filter: drop-shadow(0px 1px 2px rgba(0, 0, 0, 0.3));\n",
              "      fill: #FFFFFF;\n",
              "    }\n",
              "  </style>\n",
              "\n",
              "    <script>\n",
              "      const buttonEl =\n",
              "        document.querySelector('#df-355fc885-8de8-4470-8075-7bbf4f2110d6 button.colab-df-convert');\n",
              "      buttonEl.style.display =\n",
              "        google.colab.kernel.accessAllowed ? 'block' : 'none';\n",
              "\n",
              "      async function convertToInteractive(key) {\n",
              "        const element = document.querySelector('#df-355fc885-8de8-4470-8075-7bbf4f2110d6');\n",
              "        const dataTable =\n",
              "          await google.colab.kernel.invokeFunction('convertToInteractive',\n",
              "                                                    [key], {});\n",
              "        if (!dataTable) return;\n",
              "\n",
              "        const docLinkHtml = 'Like what you see? Visit the ' +\n",
              "          '<a target=\"_blank\" href=https://colab.research.google.com/notebooks/data_table.ipynb>data table notebook</a>'\n",
              "          + ' to learn more about interactive tables.';\n",
              "        element.innerHTML = '';\n",
              "        dataTable['output_type'] = 'display_data';\n",
              "        await google.colab.output.renderOutput(dataTable, element);\n",
              "        const docLink = document.createElement('div');\n",
              "        docLink.innerHTML = docLinkHtml;\n",
              "        element.appendChild(docLink);\n",
              "      }\n",
              "    </script>\n",
              "  </div>\n",
              "\n",
              "\n",
              "<div id=\"df-6a6362c6-8fd8-4993-8896-255993a9ba13\">\n",
              "  <button class=\"colab-df-quickchart\" onclick=\"quickchart('df-6a6362c6-8fd8-4993-8896-255993a9ba13')\"\n",
              "            title=\"Suggest charts\"\n",
              "            style=\"display:none;\">\n",
              "\n",
              "<svg xmlns=\"http://www.w3.org/2000/svg\" height=\"24px\"viewBox=\"0 0 24 24\"\n",
              "     width=\"24px\">\n",
              "    <g>\n",
              "        <path d=\"M19 3H5c-1.1 0-2 .9-2 2v14c0 1.1.9 2 2 2h14c1.1 0 2-.9 2-2V5c0-1.1-.9-2-2-2zM9 17H7v-7h2v7zm4 0h-2V7h2v10zm4 0h-2v-4h2v4z\"/>\n",
              "    </g>\n",
              "</svg>\n",
              "  </button>\n",
              "\n",
              "<style>\n",
              "  .colab-df-quickchart {\n",
              "      --bg-color: #E8F0FE;\n",
              "      --fill-color: #1967D2;\n",
              "      --hover-bg-color: #E2EBFA;\n",
              "      --hover-fill-color: #174EA6;\n",
              "      --disabled-fill-color: #AAA;\n",
              "      --disabled-bg-color: #DDD;\n",
              "  }\n",
              "\n",
              "  [theme=dark] .colab-df-quickchart {\n",
              "      --bg-color: #3B4455;\n",
              "      --fill-color: #D2E3FC;\n",
              "      --hover-bg-color: #434B5C;\n",
              "      --hover-fill-color: #FFFFFF;\n",
              "      --disabled-bg-color: #3B4455;\n",
              "      --disabled-fill-color: #666;\n",
              "  }\n",
              "\n",
              "  .colab-df-quickchart {\n",
              "    background-color: var(--bg-color);\n",
              "    border: none;\n",
              "    border-radius: 50%;\n",
              "    cursor: pointer;\n",
              "    display: none;\n",
              "    fill: var(--fill-color);\n",
              "    height: 32px;\n",
              "    padding: 0;\n",
              "    width: 32px;\n",
              "  }\n",
              "\n",
              "  .colab-df-quickchart:hover {\n",
              "    background-color: var(--hover-bg-color);\n",
              "    box-shadow: 0 1px 2px rgba(60, 64, 67, 0.3), 0 1px 3px 1px rgba(60, 64, 67, 0.15);\n",
              "    fill: var(--button-hover-fill-color);\n",
              "  }\n",
              "\n",
              "  .colab-df-quickchart-complete:disabled,\n",
              "  .colab-df-quickchart-complete:disabled:hover {\n",
              "    background-color: var(--disabled-bg-color);\n",
              "    fill: var(--disabled-fill-color);\n",
              "    box-shadow: none;\n",
              "  }\n",
              "\n",
              "  .colab-df-spinner {\n",
              "    border: 2px solid var(--fill-color);\n",
              "    border-color: transparent;\n",
              "    border-bottom-color: var(--fill-color);\n",
              "    animation:\n",
              "      spin 1s steps(1) infinite;\n",
              "  }\n",
              "\n",
              "  @keyframes spin {\n",
              "    0% {\n",
              "      border-color: transparent;\n",
              "      border-bottom-color: var(--fill-color);\n",
              "      border-left-color: var(--fill-color);\n",
              "    }\n",
              "    20% {\n",
              "      border-color: transparent;\n",
              "      border-left-color: var(--fill-color);\n",
              "      border-top-color: var(--fill-color);\n",
              "    }\n",
              "    30% {\n",
              "      border-color: transparent;\n",
              "      border-left-color: var(--fill-color);\n",
              "      border-top-color: var(--fill-color);\n",
              "      border-right-color: var(--fill-color);\n",
              "    }\n",
              "    40% {\n",
              "      border-color: transparent;\n",
              "      border-right-color: var(--fill-color);\n",
              "      border-top-color: var(--fill-color);\n",
              "    }\n",
              "    60% {\n",
              "      border-color: transparent;\n",
              "      border-right-color: var(--fill-color);\n",
              "    }\n",
              "    80% {\n",
              "      border-color: transparent;\n",
              "      border-right-color: var(--fill-color);\n",
              "      border-bottom-color: var(--fill-color);\n",
              "    }\n",
              "    90% {\n",
              "      border-color: transparent;\n",
              "      border-bottom-color: var(--fill-color);\n",
              "    }\n",
              "  }\n",
              "</style>\n",
              "\n",
              "  <script>\n",
              "    async function quickchart(key) {\n",
              "      const quickchartButtonEl =\n",
              "        document.querySelector('#' + key + ' button');\n",
              "      quickchartButtonEl.disabled = true;  // To prevent multiple clicks.\n",
              "      quickchartButtonEl.classList.add('colab-df-spinner');\n",
              "      try {\n",
              "        const charts = await google.colab.kernel.invokeFunction(\n",
              "            'suggestCharts', [key], {});\n",
              "      } catch (error) {\n",
              "        console.error('Error during call to suggestCharts:', error);\n",
              "      }\n",
              "      quickchartButtonEl.classList.remove('colab-df-spinner');\n",
              "      quickchartButtonEl.classList.add('colab-df-quickchart-complete');\n",
              "    }\n",
              "    (() => {\n",
              "      let quickchartButtonEl =\n",
              "        document.querySelector('#df-6a6362c6-8fd8-4993-8896-255993a9ba13 button');\n",
              "      quickchartButtonEl.style.display =\n",
              "        google.colab.kernel.accessAllowed ? 'block' : 'none';\n",
              "    })();\n",
              "  </script>\n",
              "</div>\n",
              "\n",
              "    </div>\n",
              "  </div>\n"
            ],
            "application/vnd.google.colaboratory.intrinsic+json": {
              "type": "dataframe",
              "variable_name": "df",
              "summary": "{\n  \"name\": \"df\",\n  \"rows\": 2517,\n  \"fields\": [\n    {\n      \"column\": \"Open\",\n      \"properties\": {\n        \"dtype\": \"number\",\n        \"std\": 62.02105704366378,\n        \"min\": 20.64205377711935,\n        \"max\": 236.2065948881155,\n        \"num_unique_values\": 2517,\n        \"samples\": [\n          181.455203284059,\n          21.422170913756926,\n          55.47205119752407\n        ],\n        \"semantic_type\": \"\",\n        \"description\": \"\"\n      }\n    },\n    {\n      \"column\": \"High\",\n      \"properties\": {\n        \"dtype\": \"number\",\n        \"std\": 62.68399780386219,\n        \"min\": 21.025078132797795,\n        \"max\": 236.95572779308304,\n        \"num_unique_values\": 2517,\n        \"samples\": [\n          183.7602715674447,\n          21.447247553588337,\n          55.5742002669013\n        ],\n        \"semantic_type\": \"\",\n        \"description\": \"\"\n      }\n    },\n    {\n      \"column\": \"Low\",\n      \"properties\": {\n        \"dtype\": \"number\",\n        \"std\": 61.395166154521505,\n        \"min\": 20.52049680502882,\n        \"max\": 232.82051476730805,\n        \"num_unique_values\": 2517,\n        \"samples\": [\n          176.89471779381256,\n          21.064260928015,\n          51.70954377534217\n        ],\n        \"semantic_type\": \"\",\n        \"description\": \"\"\n      }\n    },\n    {\n      \"column\": \"Close\",\n      \"properties\": {\n        \"dtype\": \"number\",\n        \"std\": 62.06945000773293,\n        \"min\": 20.720035552978516,\n        \"max\": 234.54852294921875,\n        \"num_unique_values\": 2477,\n        \"samples\": [\n          138.5892791748047,\n          24.721973419189453,\n          144.5702667236328\n        ],\n        \"semantic_type\": \"\",\n        \"description\": \"\"\n      }\n    },\n    {\n      \"column\": \"Volume\",\n      \"properties\": {\n        \"dtype\": \"number\",\n        \"std\": 69854750,\n        \"min\": 24048300,\n        \"max\": 648825200,\n        \"num_unique_values\": 2510,\n        \"samples\": [\n          137310400,\n          67772100,\n          59085900\n        ],\n        \"semantic_type\": \"\",\n        \"description\": \"\"\n      }\n    }\n  ]\n}"
            }
          },
          "metadata": {},
          "execution_count": 2
        }
      ],
      "source": [
        "company=\"AAPL\"\n",
        "df=yf.Ticker(company)\n",
        "df=df.history(period=\"10y\")\n",
        "df=df.reset_index()\n",
        "df=df.drop(['Date', 'Dividends', 'Stock Splits'], axis = 1)\n",
        "df.head()"
      ]
    },
    {
      "cell_type": "code",
      "execution_count": null,
      "metadata": {
        "colab": {
          "base_uri": "https://localhost:8080/",
          "height": 206
        },
        "id": "pabbW4Nrdk_u",
        "outputId": "14e20b41-3c5d-4828-aa86-c674d314c4a6"
      },
      "outputs": [
        {
          "output_type": "execute_result",
          "data": {
            "text/plain": [
              "            Open        High         Low       Close    Volume\n",
              "2512  220.820007  221.270004  216.710007  220.910004  67180000\n",
              "2513  218.919998  221.479996  216.729996  220.110001  51591000\n",
              "2514  221.460007  223.089996  217.889999  222.660004  44587100\n",
              "2515  222.500000  223.550003  219.820007  222.770004  37498200\n",
              "2516  223.580002  224.039993  221.910004  222.500000  36722900"
            ],
            "text/html": [
              "\n",
              "  <div id=\"df-b46303f0-c7a0-4aa3-b044-00c9b9328614\" class=\"colab-df-container\">\n",
              "    <div>\n",
              "<style scoped>\n",
              "    .dataframe tbody tr th:only-of-type {\n",
              "        vertical-align: middle;\n",
              "    }\n",
              "\n",
              "    .dataframe tbody tr th {\n",
              "        vertical-align: top;\n",
              "    }\n",
              "\n",
              "    .dataframe thead th {\n",
              "        text-align: right;\n",
              "    }\n",
              "</style>\n",
              "<table border=\"1\" class=\"dataframe\">\n",
              "  <thead>\n",
              "    <tr style=\"text-align: right;\">\n",
              "      <th></th>\n",
              "      <th>Open</th>\n",
              "      <th>High</th>\n",
              "      <th>Low</th>\n",
              "      <th>Close</th>\n",
              "      <th>Volume</th>\n",
              "    </tr>\n",
              "  </thead>\n",
              "  <tbody>\n",
              "    <tr>\n",
              "      <th>2512</th>\n",
              "      <td>220.820007</td>\n",
              "      <td>221.270004</td>\n",
              "      <td>216.710007</td>\n",
              "      <td>220.910004</td>\n",
              "      <td>67180000</td>\n",
              "    </tr>\n",
              "    <tr>\n",
              "      <th>2513</th>\n",
              "      <td>218.919998</td>\n",
              "      <td>221.479996</td>\n",
              "      <td>216.729996</td>\n",
              "      <td>220.110001</td>\n",
              "      <td>51591000</td>\n",
              "    </tr>\n",
              "    <tr>\n",
              "      <th>2514</th>\n",
              "      <td>221.460007</td>\n",
              "      <td>223.089996</td>\n",
              "      <td>217.889999</td>\n",
              "      <td>222.660004</td>\n",
              "      <td>44587100</td>\n",
              "    </tr>\n",
              "    <tr>\n",
              "      <th>2515</th>\n",
              "      <td>222.500000</td>\n",
              "      <td>223.550003</td>\n",
              "      <td>219.820007</td>\n",
              "      <td>222.770004</td>\n",
              "      <td>37498200</td>\n",
              "    </tr>\n",
              "    <tr>\n",
              "      <th>2516</th>\n",
              "      <td>223.580002</td>\n",
              "      <td>224.039993</td>\n",
              "      <td>221.910004</td>\n",
              "      <td>222.500000</td>\n",
              "      <td>36722900</td>\n",
              "    </tr>\n",
              "  </tbody>\n",
              "</table>\n",
              "</div>\n",
              "    <div class=\"colab-df-buttons\">\n",
              "\n",
              "  <div class=\"colab-df-container\">\n",
              "    <button class=\"colab-df-convert\" onclick=\"convertToInteractive('df-b46303f0-c7a0-4aa3-b044-00c9b9328614')\"\n",
              "            title=\"Convert this dataframe to an interactive table.\"\n",
              "            style=\"display:none;\">\n",
              "\n",
              "  <svg xmlns=\"http://www.w3.org/2000/svg\" height=\"24px\" viewBox=\"0 -960 960 960\">\n",
              "    <path d=\"M120-120v-720h720v720H120Zm60-500h600v-160H180v160Zm220 220h160v-160H400v160Zm0 220h160v-160H400v160ZM180-400h160v-160H180v160Zm440 0h160v-160H620v160ZM180-180h160v-160H180v160Zm440 0h160v-160H620v160Z\"/>\n",
              "  </svg>\n",
              "    </button>\n",
              "\n",
              "  <style>\n",
              "    .colab-df-container {\n",
              "      display:flex;\n",
              "      gap: 12px;\n",
              "    }\n",
              "\n",
              "    .colab-df-convert {\n",
              "      background-color: #E8F0FE;\n",
              "      border: none;\n",
              "      border-radius: 50%;\n",
              "      cursor: pointer;\n",
              "      display: none;\n",
              "      fill: #1967D2;\n",
              "      height: 32px;\n",
              "      padding: 0 0 0 0;\n",
              "      width: 32px;\n",
              "    }\n",
              "\n",
              "    .colab-df-convert:hover {\n",
              "      background-color: #E2EBFA;\n",
              "      box-shadow: 0px 1px 2px rgba(60, 64, 67, 0.3), 0px 1px 3px 1px rgba(60, 64, 67, 0.15);\n",
              "      fill: #174EA6;\n",
              "    }\n",
              "\n",
              "    .colab-df-buttons div {\n",
              "      margin-bottom: 4px;\n",
              "    }\n",
              "\n",
              "    [theme=dark] .colab-df-convert {\n",
              "      background-color: #3B4455;\n",
              "      fill: #D2E3FC;\n",
              "    }\n",
              "\n",
              "    [theme=dark] .colab-df-convert:hover {\n",
              "      background-color: #434B5C;\n",
              "      box-shadow: 0px 1px 3px 1px rgba(0, 0, 0, 0.15);\n",
              "      filter: drop-shadow(0px 1px 2px rgba(0, 0, 0, 0.3));\n",
              "      fill: #FFFFFF;\n",
              "    }\n",
              "  </style>\n",
              "\n",
              "    <script>\n",
              "      const buttonEl =\n",
              "        document.querySelector('#df-b46303f0-c7a0-4aa3-b044-00c9b9328614 button.colab-df-convert');\n",
              "      buttonEl.style.display =\n",
              "        google.colab.kernel.accessAllowed ? 'block' : 'none';\n",
              "\n",
              "      async function convertToInteractive(key) {\n",
              "        const element = document.querySelector('#df-b46303f0-c7a0-4aa3-b044-00c9b9328614');\n",
              "        const dataTable =\n",
              "          await google.colab.kernel.invokeFunction('convertToInteractive',\n",
              "                                                    [key], {});\n",
              "        if (!dataTable) return;\n",
              "\n",
              "        const docLinkHtml = 'Like what you see? Visit the ' +\n",
              "          '<a target=\"_blank\" href=https://colab.research.google.com/notebooks/data_table.ipynb>data table notebook</a>'\n",
              "          + ' to learn more about interactive tables.';\n",
              "        element.innerHTML = '';\n",
              "        dataTable['output_type'] = 'display_data';\n",
              "        await google.colab.output.renderOutput(dataTable, element);\n",
              "        const docLink = document.createElement('div');\n",
              "        docLink.innerHTML = docLinkHtml;\n",
              "        element.appendChild(docLink);\n",
              "      }\n",
              "    </script>\n",
              "  </div>\n",
              "\n",
              "\n",
              "<div id=\"df-1b6e6e97-f46c-40da-95f1-2fee8ba9b210\">\n",
              "  <button class=\"colab-df-quickchart\" onclick=\"quickchart('df-1b6e6e97-f46c-40da-95f1-2fee8ba9b210')\"\n",
              "            title=\"Suggest charts\"\n",
              "            style=\"display:none;\">\n",
              "\n",
              "<svg xmlns=\"http://www.w3.org/2000/svg\" height=\"24px\"viewBox=\"0 0 24 24\"\n",
              "     width=\"24px\">\n",
              "    <g>\n",
              "        <path d=\"M19 3H5c-1.1 0-2 .9-2 2v14c0 1.1.9 2 2 2h14c1.1 0 2-.9 2-2V5c0-1.1-.9-2-2-2zM9 17H7v-7h2v7zm4 0h-2V7h2v10zm4 0h-2v-4h2v4z\"/>\n",
              "    </g>\n",
              "</svg>\n",
              "  </button>\n",
              "\n",
              "<style>\n",
              "  .colab-df-quickchart {\n",
              "      --bg-color: #E8F0FE;\n",
              "      --fill-color: #1967D2;\n",
              "      --hover-bg-color: #E2EBFA;\n",
              "      --hover-fill-color: #174EA6;\n",
              "      --disabled-fill-color: #AAA;\n",
              "      --disabled-bg-color: #DDD;\n",
              "  }\n",
              "\n",
              "  [theme=dark] .colab-df-quickchart {\n",
              "      --bg-color: #3B4455;\n",
              "      --fill-color: #D2E3FC;\n",
              "      --hover-bg-color: #434B5C;\n",
              "      --hover-fill-color: #FFFFFF;\n",
              "      --disabled-bg-color: #3B4455;\n",
              "      --disabled-fill-color: #666;\n",
              "  }\n",
              "\n",
              "  .colab-df-quickchart {\n",
              "    background-color: var(--bg-color);\n",
              "    border: none;\n",
              "    border-radius: 50%;\n",
              "    cursor: pointer;\n",
              "    display: none;\n",
              "    fill: var(--fill-color);\n",
              "    height: 32px;\n",
              "    padding: 0;\n",
              "    width: 32px;\n",
              "  }\n",
              "\n",
              "  .colab-df-quickchart:hover {\n",
              "    background-color: var(--hover-bg-color);\n",
              "    box-shadow: 0 1px 2px rgba(60, 64, 67, 0.3), 0 1px 3px 1px rgba(60, 64, 67, 0.15);\n",
              "    fill: var(--button-hover-fill-color);\n",
              "  }\n",
              "\n",
              "  .colab-df-quickchart-complete:disabled,\n",
              "  .colab-df-quickchart-complete:disabled:hover {\n",
              "    background-color: var(--disabled-bg-color);\n",
              "    fill: var(--disabled-fill-color);\n",
              "    box-shadow: none;\n",
              "  }\n",
              "\n",
              "  .colab-df-spinner {\n",
              "    border: 2px solid var(--fill-color);\n",
              "    border-color: transparent;\n",
              "    border-bottom-color: var(--fill-color);\n",
              "    animation:\n",
              "      spin 1s steps(1) infinite;\n",
              "  }\n",
              "\n",
              "  @keyframes spin {\n",
              "    0% {\n",
              "      border-color: transparent;\n",
              "      border-bottom-color: var(--fill-color);\n",
              "      border-left-color: var(--fill-color);\n",
              "    }\n",
              "    20% {\n",
              "      border-color: transparent;\n",
              "      border-left-color: var(--fill-color);\n",
              "      border-top-color: var(--fill-color);\n",
              "    }\n",
              "    30% {\n",
              "      border-color: transparent;\n",
              "      border-left-color: var(--fill-color);\n",
              "      border-top-color: var(--fill-color);\n",
              "      border-right-color: var(--fill-color);\n",
              "    }\n",
              "    40% {\n",
              "      border-color: transparent;\n",
              "      border-right-color: var(--fill-color);\n",
              "      border-top-color: var(--fill-color);\n",
              "    }\n",
              "    60% {\n",
              "      border-color: transparent;\n",
              "      border-right-color: var(--fill-color);\n",
              "    }\n",
              "    80% {\n",
              "      border-color: transparent;\n",
              "      border-right-color: var(--fill-color);\n",
              "      border-bottom-color: var(--fill-color);\n",
              "    }\n",
              "    90% {\n",
              "      border-color: transparent;\n",
              "      border-bottom-color: var(--fill-color);\n",
              "    }\n",
              "  }\n",
              "</style>\n",
              "\n",
              "  <script>\n",
              "    async function quickchart(key) {\n",
              "      const quickchartButtonEl =\n",
              "        document.querySelector('#' + key + ' button');\n",
              "      quickchartButtonEl.disabled = true;  // To prevent multiple clicks.\n",
              "      quickchartButtonEl.classList.add('colab-df-spinner');\n",
              "      try {\n",
              "        const charts = await google.colab.kernel.invokeFunction(\n",
              "            'suggestCharts', [key], {});\n",
              "      } catch (error) {\n",
              "        console.error('Error during call to suggestCharts:', error);\n",
              "      }\n",
              "      quickchartButtonEl.classList.remove('colab-df-spinner');\n",
              "      quickchartButtonEl.classList.add('colab-df-quickchart-complete');\n",
              "    }\n",
              "    (() => {\n",
              "      let quickchartButtonEl =\n",
              "        document.querySelector('#df-1b6e6e97-f46c-40da-95f1-2fee8ba9b210 button');\n",
              "      quickchartButtonEl.style.display =\n",
              "        google.colab.kernel.accessAllowed ? 'block' : 'none';\n",
              "    })();\n",
              "  </script>\n",
              "</div>\n",
              "\n",
              "    </div>\n",
              "  </div>\n"
            ],
            "application/vnd.google.colaboratory.intrinsic+json": {
              "type": "dataframe",
              "summary": "{\n  \"name\": \"df\",\n  \"rows\": 5,\n  \"fields\": [\n    {\n      \"column\": \"Open\",\n      \"properties\": {\n        \"dtype\": \"number\",\n        \"std\": 1.7633156129009058,\n        \"min\": 218.9199981689453,\n        \"max\": 223.5800018310547,\n        \"num_unique_values\": 5,\n        \"samples\": [\n          218.9199981689453,\n          223.5800018310547,\n          221.4600067138672\n        ],\n        \"semantic_type\": \"\",\n        \"description\": \"\"\n      }\n    },\n    {\n      \"column\": \"High\",\n      \"properties\": {\n        \"dtype\": \"number\",\n        \"std\": 1.2452411753311852,\n        \"min\": 221.27000427246094,\n        \"max\": 224.0399932861328,\n        \"num_unique_values\": 5,\n        \"samples\": [\n          221.47999572753906,\n          224.0399932861328,\n          223.08999633789062\n        ],\n        \"semantic_type\": \"\",\n        \"description\": \"\"\n      }\n    },\n    {\n      \"column\": \"Low\",\n      \"properties\": {\n        \"dtype\": \"number\",\n        \"std\": 2.237013258455551,\n        \"min\": 216.7100067138672,\n        \"max\": 221.91000366210938,\n        \"num_unique_values\": 5,\n        \"samples\": [\n          216.72999572753906,\n          221.91000366210938,\n          217.88999938964844\n        ],\n        \"semantic_type\": \"\",\n        \"description\": \"\"\n      }\n    },\n    {\n      \"column\": \"Close\",\n      \"properties\": {\n        \"dtype\": \"number\",\n        \"std\": 1.2060479105342008,\n        \"min\": 220.11000061035156,\n        \"max\": 222.77000427246094,\n        \"num_unique_values\": 5,\n        \"samples\": [\n          220.11000061035156,\n          222.5,\n          222.66000366210938\n        ],\n        \"semantic_type\": \"\",\n        \"description\": \"\"\n      }\n    },\n    {\n      \"column\": \"Volume\",\n      \"properties\": {\n        \"dtype\": \"number\",\n        \"std\": 12536988,\n        \"min\": 36722900,\n        \"max\": 67180000,\n        \"num_unique_values\": 5,\n        \"samples\": [\n          51591000,\n          36722900,\n          44587100\n        ],\n        \"semantic_type\": \"\",\n        \"description\": \"\"\n      }\n    }\n  ]\n}"
            }
          },
          "metadata": {},
          "execution_count": 3
        }
      ],
      "source": [
        "df.tail()"
      ]
    },
    {
      "cell_type": "code",
      "execution_count": null,
      "metadata": {
        "colab": {
          "base_uri": "https://localhost:8080/",
          "height": 458
        },
        "id": "975yIkXhdlSM",
        "outputId": "6497cf3a-ec30-45be-8ba5-3243ba34ba2b"
      },
      "outputs": [
        {
          "output_type": "execute_result",
          "data": {
            "text/plain": [
              "0        22.559504\n",
              "1        22.388575\n",
              "2        22.548407\n",
              "3        22.595016\n",
              "4        22.410776\n",
              "           ...    \n",
              "2512    220.910004\n",
              "2513    220.110001\n",
              "2514    222.660004\n",
              "2515    222.770004\n",
              "2516    222.500000\n",
              "Name: Close, Length: 2517, dtype: float64"
            ],
            "text/html": [
              "<div>\n",
              "<style scoped>\n",
              "    .dataframe tbody tr th:only-of-type {\n",
              "        vertical-align: middle;\n",
              "    }\n",
              "\n",
              "    .dataframe tbody tr th {\n",
              "        vertical-align: top;\n",
              "    }\n",
              "\n",
              "    .dataframe thead th {\n",
              "        text-align: right;\n",
              "    }\n",
              "</style>\n",
              "<table border=\"1\" class=\"dataframe\">\n",
              "  <thead>\n",
              "    <tr style=\"text-align: right;\">\n",
              "      <th></th>\n",
              "      <th>Close</th>\n",
              "    </tr>\n",
              "  </thead>\n",
              "  <tbody>\n",
              "    <tr>\n",
              "      <th>0</th>\n",
              "      <td>22.559504</td>\n",
              "    </tr>\n",
              "    <tr>\n",
              "      <th>1</th>\n",
              "      <td>22.388575</td>\n",
              "    </tr>\n",
              "    <tr>\n",
              "      <th>2</th>\n",
              "      <td>22.548407</td>\n",
              "    </tr>\n",
              "    <tr>\n",
              "      <th>3</th>\n",
              "      <td>22.595016</td>\n",
              "    </tr>\n",
              "    <tr>\n",
              "      <th>4</th>\n",
              "      <td>22.410776</td>\n",
              "    </tr>\n",
              "    <tr>\n",
              "      <th>...</th>\n",
              "      <td>...</td>\n",
              "    </tr>\n",
              "    <tr>\n",
              "      <th>2512</th>\n",
              "      <td>220.910004</td>\n",
              "    </tr>\n",
              "    <tr>\n",
              "      <th>2513</th>\n",
              "      <td>220.110001</td>\n",
              "    </tr>\n",
              "    <tr>\n",
              "      <th>2514</th>\n",
              "      <td>222.660004</td>\n",
              "    </tr>\n",
              "    <tr>\n",
              "      <th>2515</th>\n",
              "      <td>222.770004</td>\n",
              "    </tr>\n",
              "    <tr>\n",
              "      <th>2516</th>\n",
              "      <td>222.500000</td>\n",
              "    </tr>\n",
              "  </tbody>\n",
              "</table>\n",
              "<p>2517 rows × 1 columns</p>\n",
              "</div><br><label><b>dtype:</b> float64</label>"
            ]
          },
          "metadata": {},
          "execution_count": 4
        }
      ],
      "source": [
        "df1=df.reset_index()['Close']\n",
        "df1"
      ]
    },
    {
      "cell_type": "code",
      "execution_count": null,
      "metadata": {
        "colab": {
          "base_uri": "https://localhost:8080/",
          "height": 448
        },
        "id": "3yibSs6odlfw",
        "outputId": "48bad7c6-99a3-4a50-e033-468d97b71b65"
      },
      "outputs": [
        {
          "output_type": "execute_result",
          "data": {
            "text/plain": [
              "[<matplotlib.lines.Line2D at 0x7885325fc640>]"
            ]
          },
          "metadata": {},
          "execution_count": 5
        },
        {
          "output_type": "display_data",
          "data": {
            "text/plain": [
              "<Figure size 640x480 with 1 Axes>"
            ],
            "image/png": "[encoded data removed]"
          },
          "metadata": {}
        }
      ],
      "source": [
        "plt.plot(df1)"
      ]
    },
    {
      "cell_type": "code",
      "execution_count": null,
      "metadata": {
        "id": "S8T_12EDeC4e"
      },
      "outputs": [],
      "source": [
        "scaler=MinMaxScaler(feature_range=(0,1))\n",
        "df1=scaler.fit_transform(numpy.array(df1).reshape(-1,1))"
      ]
    },
    {
      "cell_type": "code",
      "execution_count": null,
      "metadata": {
        "colab": {
          "base_uri": "https://localhost:8080/"
        },
        "id": "JXmT8wgveeCV",
        "outputId": "58284bb2-b2de-47c8-e397-0499508d3a3a"
      },
      "outputs": [
        {
          "output_type": "stream",
          "name": "stdout",
          "text": [
            "[[0.00860254]\n",
            " [0.00780317]\n",
            " [0.00855064]\n",
            " ...\n",
            " [0.94440161]\n",
            " [0.94491605]\n",
            " [0.94365333]]\n"
          ]
        }
      ],
      "source": [
        "print(df1)"
      ]
    },
    {
      "cell_type": "code",
      "execution_count": null,
      "metadata": {
        "id": "LHzuL_MHejL3"
      },
      "outputs": [],
      "source": [
        "training_size=int(len(df1)*0.7)\n",
        "test_size=len(df1)-training_size\n",
        "train_data,test_data=df1[0:training_size,:],df1[training_size:len(df1),:1]"
      ]
    },
    {
      "cell_type": "code",
      "execution_count": null,
      "metadata": {
        "colab": {
          "base_uri": "https://localhost:8080/"
        },
        "id": "6Ke-PsLyeoEh",
        "outputId": "38d2a791-7586-4689-ff01-65e3dcca0251"
      },
      "outputs": [
        {
          "output_type": "execute_result",
          "data": {
            "text/plain": [
              "(1761, 756)"
            ]
          },
          "metadata": {},
          "execution_count": 9
        }
      ],
      "source": [
        "training_size,test_size"
      ]
    },
    {
      "cell_type": "code",
      "execution_count": null,
      "metadata": {
        "colab": {
          "base_uri": "https://localhost:8080/"
        },
        "id": "Yd5ZDFcCeoTK",
        "outputId": "f097b837-9dd9-4028-dc44-b25a48e6fe70"
      },
      "outputs": [
        {
          "output_type": "execute_result",
          "data": {
            "text/plain": [
              "array([[0.00860254],\n",
              "       [0.00780317],\n",
              "       [0.00855064],\n",
              "       ...,\n",
              "       [0.61654712],\n",
              "       [0.61176365],\n",
              "       [0.5883055 ]])"
            ]
          },
          "metadata": {},
          "execution_count": 10
        }
      ],
      "source": [
        "train_data"
      ]
    },
    {
      "cell_type": "code",
      "execution_count": null,
      "metadata": {
        "id": "UazjDs9feodV"
      },
      "outputs": [],
      "source": [
        "def create_dataset(dataset, time_step=1):\n",
        "\tdataX, dataY = [], []\n",
        "\tfor i in range(len(dataset)-time_step-1):\n",
        "\t\ta = dataset[i:(i+time_step), 0]   ###i=0, 0,1,2,3-----99   100\n",
        "\t\tdataX.append(a)\n",
        "\t\tdataY.append(dataset[i + time_step, 0])\n",
        "\treturn numpy.array(dataX), numpy.array(dataY)"
      ]
    },
    {
      "cell_type": "code",
      "execution_count": null,
      "metadata": {
        "id": "5n0iNXrifA0I"
      },
      "outputs": [],
      "source": [
        "time_step = 100\n",
        "X_train, y_train = create_dataset(train_data, time_step)\n",
        "X_test, ytest = create_dataset(test_data, time_step)"
      ]
    },
    {
      "cell_type": "code",
      "execution_count": null,
      "metadata": {
        "colab": {
          "base_uri": "https://localhost:8080/"
        },
        "id": "ZVasXyTAf3PN",
        "outputId": "e3731ccc-865f-478f-8e74-214181eb8b72"
      },
      "outputs": [
        {
          "output_type": "stream",
          "name": "stdout",
          "text": [
            "(1660, 100)\n",
            "(1660,)\n"
          ]
        },
        {
          "output_type": "execute_result",
          "data": {
            "text/plain": [
              "(None, None)"
            ]
          },
          "metadata": {},
          "execution_count": 13
        }
      ],
      "source": [
        "print(X_train.shape), print(y_train.shape)"
      ]
    },
    {
      "cell_type": "code",
      "execution_count": null,
      "metadata": {
        "colab": {
          "base_uri": "https://localhost:8080/"
        },
        "id": "sGxG_qZAf9qC",
        "outputId": "12898ae2-1fe7-4621-871e-cfb514087036"
      },
      "outputs": [
        {
          "output_type": "stream",
          "name": "stdout",
          "text": [
            "(655, 100)\n",
            "(655,)\n"
          ]
        },
        {
          "output_type": "execute_result",
          "data": {
            "text/plain": [
              "(None, None)"
            ]
          },
          "metadata": {},
          "execution_count": 14
        }
      ],
      "source": [
        "print(X_test.shape), print(ytest.shape)"
      ]
    },
    {
      "cell_type": "code",
      "execution_count": null,
      "metadata": {
        "id": "MtmY_8RZf9zT"
      },
      "outputs": [],
      "source": [
        "X_train =X_train.reshape(X_train.shape[0],X_train.shape[1] , 1)\n",
        "X_test = X_test.reshape(X_test.shape[0],X_test.shape[1] , 1)"
      ]
    },
    {
      "cell_type": "code",
      "execution_count": null,
      "metadata": {
        "id": "JfdLTIwHf92c",
        "colab": {
          "base_uri": "https://localhost:8080/"
        },
        "outputId": "cd11139d-ce37-411b-b5cb-279058a3f33b"
      },
      "outputs": [
        {
          "output_type": "stream",
          "name": "stderr",
          "text": [
            "/usr/local/lib/python3.10/dist-packages/keras/src/layers/rnn/rnn.py:204: UserWarning: Do not pass an `input_shape`/`input_dim` argument to a layer. When using Sequential models, prefer using an `Input(shape)` object as the first layer in the model instead.\n",
            "  super().__init__(**kwargs)\n"
          ]
        }
      ],
      "source": [
        "model=Sequential()\n",
        "model.add(LSTM(50, return_sequences=True,input_shape=(100,1)))\n",
        "model.add(Dropout(0.3))\n",
        "model.add(LSTM(70, return_sequences=True))\n",
        "model.add(Dropout(0.4))\n",
        "model.add(LSTM(90))\n",
        "model.add(Dropout(0.5))\n",
        "model.add(Dense(1))\n",
        "model.compile(loss='mean_squared_error',optimizer='adam')"
      ]
    },
    {
      "cell_type": "code",
      "execution_count": null,
      "metadata": {
        "colab": {
          "base_uri": "https://localhost:8080/",
          "height": 353
        },
        "id": "8zwYPY_sf95_",
        "outputId": "27e319d7-89d6-443f-9a9e-aec4c6b645df"
      },
      "outputs": [
        {
          "output_type": "display_data",
          "data": {
            "text/plain": [
              "\u001b[1mModel: \"sequential\"\u001b[0m\n"
            ],
            "text/html": [
              "<pre style=\"white-space:pre;overflow-x:auto;line-height:normal;font-family:Menlo,'DejaVu Sans Mono',consolas,'Courier New',monospace\"><span style=\"font-weight: bold\">Model: \"sequential\"</span>\n",
              "</pre>\n"
            ]
          },
          "metadata": {}
        },
        {
          "output_type": "display_data",
          "data": {
            "text/plain": [
              "┏━━━━━━━━━━━━━━━━━━━━━━━━━━━━━━━━━━━━━━┳━━━━━━━━━━━━━━━━━━━━━━━━━━━━━┳━━━━━━━━━━━━━━━━━┓\n",
              "┃\u001b[1m \u001b[0m\u001b[1mLayer (type)                        \u001b[0m\u001b[1m \u001b[0m┃\u001b[1m \u001b[0m\u001b[1mOutput Shape               \u001b[0m\u001b[1m \u001b[0m┃\u001b[1m \u001b[0m\u001b[1m        Param #\u001b[0m\u001b[1m \u001b[0m┃\n",
              "┡━━━━━━━━━━━━━━━━━━━━━━━━━━━━━━━━━━━━━━╇━━━━━━━━━━━━━━━━━━━━━━━━━━━━━╇━━━━━━━━━━━━━━━━━┩\n",
              "│ lstm (\u001b[38;5;33mLSTM\u001b[0m)                          │ (\u001b[38;5;45mNone\u001b[0m, \u001b[38;5;34m100\u001b[0m, \u001b[38;5;34m50\u001b[0m)             │          \u001b[38;5;34m10,400\u001b[0m │\n",
              "├──────────────────────────────────────┼─────────────────────────────┼─────────────────┤\n",
              "│ dropout (\u001b[38;5;33mDropout\u001b[0m)                    │ (\u001b[38;5;45mNone\u001b[0m, \u001b[38;5;34m100\u001b[0m, \u001b[38;5;34m50\u001b[0m)             │               \u001b[38;5;34m0\u001b[0m │\n",
              "├──────────────────────────────────────┼─────────────────────────────┼─────────────────┤\n",
              "│ lstm_1 (\u001b[38;5;33mLSTM\u001b[0m)                        │ (\u001b[38;5;45mNone\u001b[0m, \u001b[38;5;34m100\u001b[0m, \u001b[38;5;34m70\u001b[0m)             │          \u001b[38;5;34m33,880\u001b[0m │\n",
              "├──────────────────────────────────────┼─────────────────────────────┼─────────────────┤\n",
              "│ dropout_1 (\u001b[38;5;33mDropout\u001b[0m)                  │ (\u001b[38;5;45mNone\u001b[0m, \u001b[38;5;34m100\u001b[0m, \u001b[38;5;34m70\u001b[0m)             │               \u001b[38;5;34m0\u001b[0m │\n",
              "├──────────────────────────────────────┼─────────────────────────────┼─────────────────┤\n",
              "│ lstm_2 (\u001b[38;5;33mLSTM\u001b[0m)                        │ (\u001b[38;5;45mNone\u001b[0m, \u001b[38;5;34m90\u001b[0m)                  │          \u001b[38;5;34m57,960\u001b[0m │\n",
              "├──────────────────────────────────────┼─────────────────────────────┼─────────────────┤\n",
              "│ dropout_2 (\u001b[38;5;33mDropout\u001b[0m)                  │ (\u001b[38;5;45mNone\u001b[0m, \u001b[38;5;34m90\u001b[0m)                  │               \u001b[38;5;34m0\u001b[0m │\n",
              "├──────────────────────────────────────┼─────────────────────────────┼─────────────────┤\n",
              "│ dense (\u001b[38;5;33mDense\u001b[0m)                        │ (\u001b[38;5;45mNone\u001b[0m, \u001b[38;5;34m1\u001b[0m)                   │              \u001b[38;5;34m91\u001b[0m │\n",
              "└──────────────────────────────────────┴─────────────────────────────┴─────────────────┘\n"
            ],
            "text/html": [
              "<pre style=\"white-space:pre;overflow-x:auto;line-height:normal;font-family:Menlo,'DejaVu Sans Mono',consolas,'Courier New',monospace\">┏━━━━━━━━━━━━━━━━━━━━━━━━━━━━━━━━━━━━━━┳━━━━━━━━━━━━━━━━━━━━━━━━━━━━━┳━━━━━━━━━━━━━━━━━┓\n",
              "┃<span style=\"font-weight: bold\"> Layer (type)                         </span>┃<span style=\"font-weight: bold\"> Output Shape                </span>┃<span style=\"font-weight: bold\">         Param # </span>┃\n",
              "┡━━━━━━━━━━━━━━━━━━━━━━━━━━━━━━━━━━━━━━╇━━━━━━━━━━━━━━━━━━━━━━━━━━━━━╇━━━━━━━━━━━━━━━━━┩\n",
              "│ lstm (<span style=\"color: #0087ff; text-decoration-color: #0087ff\">LSTM</span>)                          │ (<span style=\"color: #00d7ff; text-decoration-color: #00d7ff\">None</span>, <span style=\"color: #00af00; text-decoration-color: #00af00\">100</span>, <span style=\"color: #00af00; text-decoration-color: #00af00\">50</span>)             │          <span style=\"color: #00af00; text-decoration-color: #00af00\">10,400</span> │\n",
              "├──────────────────────────────────────┼─────────────────────────────┼─────────────────┤\n",
              "│ dropout (<span style=\"color: #0087ff; text-decoration-color: #0087ff\">Dropout</span>)                    │ (<span style=\"color: #00d7ff; text-decoration-color: #00d7ff\">None</span>, <span style=\"color: #00af00; text-decoration-color: #00af00\">100</span>, <span style=\"color: #00af00; text-decoration-color: #00af00\">50</span>)             │               <span style=\"color: #00af00; text-decoration-color: #00af00\">0</span> │\n",
              "├──────────────────────────────────────┼─────────────────────────────┼─────────────────┤\n",
              "│ lstm_1 (<span style=\"color: #0087ff; text-decoration-color: #0087ff\">LSTM</span>)                        │ (<span style=\"color: #00d7ff; text-decoration-color: #00d7ff\">None</span>, <span style=\"color: #00af00; text-decoration-color: #00af00\">100</span>, <span style=\"color: #00af00; text-decoration-color: #00af00\">70</span>)             │          <span style=\"color: #00af00; text-decoration-color: #00af00\">33,880</span> │\n",
              "├──────────────────────────────────────┼─────────────────────────────┼─────────────────┤\n",
              "│ dropout_1 (<span style=\"color: #0087ff; text-decoration-color: #0087ff\">Dropout</span>)                  │ (<span style=\"color: #00d7ff; text-decoration-color: #00d7ff\">None</span>, <span style=\"color: #00af00; text-decoration-color: #00af00\">100</span>, <span style=\"color: #00af00; text-decoration-color: #00af00\">70</span>)             │               <span style=\"color: #00af00; text-decoration-color: #00af00\">0</span> │\n",
              "├──────────────────────────────────────┼─────────────────────────────┼─────────────────┤\n",
              "│ lstm_2 (<span style=\"color: #0087ff; text-decoration-color: #0087ff\">LSTM</span>)                        │ (<span style=\"color: #00d7ff; text-decoration-color: #00d7ff\">None</span>, <span style=\"color: #00af00; text-decoration-color: #00af00\">90</span>)                  │          <span style=\"color: #00af00; text-decoration-color: #00af00\">57,960</span> │\n",
              "├──────────────────────────────────────┼─────────────────────────────┼─────────────────┤\n",
              "│ dropout_2 (<span style=\"color: #0087ff; text-decoration-color: #0087ff\">Dropout</span>)                  │ (<span style=\"color: #00d7ff; text-decoration-color: #00d7ff\">None</span>, <span style=\"color: #00af00; text-decoration-color: #00af00\">90</span>)                  │               <span style=\"color: #00af00; text-decoration-color: #00af00\">0</span> │\n",
              "├──────────────────────────────────────┼─────────────────────────────┼─────────────────┤\n",
              "│ dense (<span style=\"color: #0087ff; text-decoration-color: #0087ff\">Dense</span>)                        │ (<span style=\"color: #00d7ff; text-decoration-color: #00d7ff\">None</span>, <span style=\"color: #00af00; text-decoration-color: #00af00\">1</span>)                   │              <span style=\"color: #00af00; text-decoration-color: #00af00\">91</span> │\n",
              "└──────────────────────────────────────┴─────────────────────────────┴─────────────────┘\n",
              "</pre>\n"
            ]
          },
          "metadata": {}
        },
        {
          "output_type": "display_data",
          "data": {
            "text/plain": [
              "\u001b[1m Total params: \u001b[0m\u001b[38;5;34m102,331\u001b[0m (399.73 KB)\n"
            ],
            "text/html": [
              "<pre style=\"white-space:pre;overflow-x:auto;line-height:normal;font-family:Menlo,'DejaVu Sans Mono',consolas,'Courier New',monospace\"><span style=\"font-weight: bold\"> Total params: </span><span style=\"color: #00af00; text-decoration-color: #00af00\">102,331</span> (399.73 KB)\n",
              "</pre>\n"
            ]
          },
          "metadata": {}
        },
        {
          "output_type": "display_data",
          "data": {
            "text/plain": [
              "\u001b[1m Trainable params: \u001b[0m\u001b[38;5;34m102,331\u001b[0m (399.73 KB)\n"
            ],
            "text/html": [
              "<pre style=\"white-space:pre;overflow-x:auto;line-height:normal;font-family:Menlo,'DejaVu Sans Mono',consolas,'Courier New',monospace\"><span style=\"font-weight: bold\"> Trainable params: </span><span style=\"color: #00af00; text-decoration-color: #00af00\">102,331</span> (399.73 KB)\n",
              "</pre>\n"
            ]
          },
          "metadata": {}
        },
        {
          "output_type": "display_data",
          "data": {
            "text/plain": [
              "\u001b[1m Non-trainable params: \u001b[0m\u001b[38;5;34m0\u001b[0m (0.00 B)\n"
            ],
            "text/html": [
              "<pre style=\"white-space:pre;overflow-x:auto;line-height:normal;font-family:Menlo,'DejaVu Sans Mono',consolas,'Courier New',monospace\"><span style=\"font-weight: bold\"> Non-trainable params: </span><span style=\"color: #00af00; text-decoration-color: #00af00\">0</span> (0.00 B)\n",
              "</pre>\n"
            ]
          },
          "metadata": {}
        }
      ],
      "source": [
        "model.summary()"
      ]
    },
    {
      "cell_type": "code",
      "execution_count": null,
      "metadata": {
        "colab": {
          "base_uri": "https://localhost:8080/"
        },
        "id": "TmOZMIgUf99g",
        "outputId": "6793ac07-cb14-42ca-eb2a-847920437bdb"
      },
      "outputs": [
        {
          "output_type": "stream",
          "name": "stdout",
          "text": [
            "Epoch 1/5\n",
            "\u001b[1m26/26\u001b[0m \u001b[32m━━━━━━━━━━━━━━━━━━━━\u001b[0m\u001b[37m\u001b[0m \u001b[1m13s\u001b[0m 304ms/step - loss: 0.0183 - val_loss: 0.0043\n",
            "Epoch 2/5\n",
            "\u001b[1m26/26\u001b[0m \u001b[32m━━━━━━━━━━━━━━━━━━━━\u001b[0m\u001b[37m\u001b[0m \u001b[1m9s\u001b[0m 254ms/step - loss: 0.0019 - val_loss: 0.0029\n",
            "Epoch 3/5\n",
            "\u001b[1m26/26\u001b[0m \u001b[32m━━━━━━━━━━━━━━━━━━━━\u001b[0m\u001b[37m\u001b[0m \u001b[1m10s\u001b[0m 252ms/step - loss: 0.0011 - val_loss: 0.0027\n",
            "Epoch 4/5\n",
            "\u001b[1m26/26\u001b[0m \u001b[32m━━━━━━━━━━━━━━━━━━━━\u001b[0m\u001b[37m\u001b[0m \u001b[1m12s\u001b[0m 304ms/step - loss: 0.0014 - val_loss: 0.0015\n",
            "Epoch 5/5\n",
            "\u001b[1m26/26\u001b[0m \u001b[32m━━━━━━━━━━━━━━━━━━━━\u001b[0m\u001b[37m\u001b[0m \u001b[1m10s\u001b[0m 317ms/step - loss: 0.0011 - val_loss: 0.0033\n"
          ]
        },
        {
          "output_type": "execute_result",
          "data": {
            "text/plain": [
              "<keras.src.callbacks.history.History at 0x78852dc4bd00>"
            ]
          },
          "metadata": {},
          "execution_count": 18
        }
      ],
      "source": [
        "model.fit(X_train,y_train,validation_data=(X_test,ytest),epochs=5,batch_size=64,verbose=1)"
      ]
    },
    {
      "cell_type": "code",
      "execution_count": null,
      "metadata": {
        "colab": {
          "base_uri": "https://localhost:8080/",
          "height": 36
        },
        "id": "r7y8ObpihB72",
        "outputId": "94a62baa-5159-4bd1-88f5-211aaa4d1288"
      },
      "outputs": [
        {
          "output_type": "execute_result",
          "data": {
            "text/plain": [
              "'2.17.0'"
            ],
            "application/vnd.google.colaboratory.intrinsic+json": {
              "type": "string"
            }
          },
          "metadata": {},
          "execution_count": 19
        }
      ],
      "source": [
        "import tensorflow as tf\n",
        "tf.__version__"
      ]
    },
    {
      "cell_type": "code",
      "execution_count": null,
      "metadata": {
        "colab": {
          "base_uri": "https://localhost:8080/"
        },
        "id": "-BzAsO4qhIYz",
        "outputId": "d57bdf0b-4fa0-4448-a0ef-e707a97c423d"
      },
      "outputs": [
        {
          "output_type": "stream",
          "name": "stdout",
          "text": [
            "\u001b[1m52/52\u001b[0m \u001b[32m━━━━━━━━━━━━━━━━━━━━\u001b[0m\u001b[37m\u001b[0m \u001b[1m3s\u001b[0m 50ms/step\n",
            "\u001b[1m21/21\u001b[0m \u001b[32m━━━━━━━━━━━━━━━━━━━━\u001b[0m\u001b[37m\u001b[0m \u001b[1m1s\u001b[0m 42ms/step\n"
          ]
        }
      ],
      "source": [
        "### Lets Do the prediction and check performance metrics\n",
        "train_predict=model.predict(X_train)\n",
        "test_predict=model.predict(X_test)"
      ]
    },
    {
      "cell_type": "code",
      "execution_count": null,
      "metadata": {
        "id": "uCRFOyT4hLdV"
      },
      "outputs": [],
      "source": [
        "##Transformback to original form\n",
        "train_predict=scaler.inverse_transform(train_predict)\n",
        "test_predict=scaler.inverse_transform(test_predict)"
      ]
    },
    {
      "cell_type": "code",
      "execution_count": null,
      "metadata": {
        "colab": {
          "base_uri": "https://localhost:8080/"
        },
        "id": "mA4a-0-4hPQX",
        "outputId": "56dc07c3-2d21-47a8-ac21-c3e1f5367c3e"
      },
      "outputs": [
        {
          "output_type": "execute_result",
          "data": {
            "text/plain": [
              "63.7753255238233"
            ]
          },
          "metadata": {},
          "execution_count": 22
        }
      ],
      "source": [
        "import math\n",
        "math.sqrt(mean_squared_error(y_train,train_predict))"
      ]
    },
    {
      "cell_type": "code",
      "execution_count": null,
      "metadata": {
        "colab": {
          "base_uri": "https://localhost:8080/"
        },
        "id": "3X1sgloujXxh",
        "outputId": "4a27d21c-087b-4581-8d8a-a8e13cc11b0c"
      },
      "outputs": [
        {
          "output_type": "execute_result",
          "data": {
            "text/plain": [
              "162.55370479910718"
            ]
          },
          "metadata": {},
          "execution_count": 23
        }
      ],
      "source": [
        "### Test Data RMSE\n",
        "math.sqrt(mean_squared_error(ytest,test_predict))"
      ]
    },
    {
      "cell_type": "code",
      "execution_count": null,
      "metadata": {
        "colab": {
          "base_uri": "https://localhost:8080/"
        },
        "id": "bfy9QuGjdUw-",
        "outputId": "b59343c7-afc5-4b6c-bff7-23806dadc7d7"
      },
      "outputs": [
        {
          "output_type": "stream",
          "name": "stdout",
          "text": [
            "\u001b[1m52/52\u001b[0m \u001b[32m━━━━━━━━━━━━━━━━━━━━\u001b[0m\u001b[37m\u001b[0m \u001b[1m2s\u001b[0m 43ms/step\n",
            "R^2 Score: 0.9897231311649917\n",
            "Accuracy Percentage: 98.97231311649917\n",
            "\u001b[1m21/21\u001b[0m \u001b[32m━━━━━━━━━━━━━━━━━━━━\u001b[0m\u001b[37m\u001b[0m \u001b[1m1s\u001b[0m 41ms/step\n",
            "R^2 Score: 0.7402107040368837\n",
            "Accuracy Percentage: 74.02107040368837\n"
          ]
        }
      ],
      "source": [
        "from sklearn.metrics import r2_score\n",
        "y_pred = model.predict(X_train)\n",
        "\n",
        "# Invert scaling to get actual prices\n",
        "y_train_actual = scaler.inverse_transform(y_train.reshape(-1, 1))\n",
        "y_pred_actual = scaler.inverse_transform(y_pred)\n",
        "\n",
        "# Calculate R^2 score\n",
        "r2 = r2_score(y_train_actual, y_pred_actual)\n",
        "\n",
        "print(\"R^2 Score:\", r2)\n",
        "print(\"Accuracy Percentage:\", r2 * 100)\n",
        "\n",
        "# Predicting the stock prices\n",
        "y_pred = model.predict(X_test)\n",
        "\n",
        "# Invert scaling to get actual prices\n",
        "y_test_actual = scaler.inverse_transform(ytest.reshape(-1, 1))\n",
        "y_pred_actual = scaler.inverse_transform(y_pred)\n",
        "\n",
        "# Calculate R^2 score\n",
        "r2 = r2_score(y_test_actual, y_pred_actual)\n",
        "\n",
        "print(\"R^2 Score:\", r2)\n",
        "print(\"Accuracy Percentage:\", r2 * 100)"
      ]
    },
    {
      "cell_type": "code",
      "execution_count": null,
      "metadata": {
        "colab": {
          "base_uri": "https://localhost:8080/",
          "height": 430
        },
        "id": "2tppvilnjcLr",
        "outputId": "3c66c5bc-dee9-45a5-d7b5-71b45e92d245"
      },
      "outputs": [
        {
          "output_type": "display_data",
          "data": {
            "text/plain": [
              "<Figure size 640x480 with 1 Axes>"
            ],
            "image/png": "[encoded data removed]"
          },
          "metadata": {}
        }
      ],
      "source": [
        "### Plotting\n",
        "# shift train predictions for plotting\n",
        "look_back=100\n",
        "trainPredictPlot = numpy.empty_like(df1)\n",
        "trainPredictPlot[:, :] = numpy.nan\n",
        "trainPredictPlot[look_back:len(train_predict)+look_back, :] = train_predict\n",
        "# shift test predictions for plotting\n",
        "testPredictPlot = numpy.empty_like(df1)\n",
        "testPredictPlot[:, :] = numpy.nan\n",
        "testPredictPlot[len(train_predict)+(look_back*2)+1:len(df1)-1, :] = test_predict\n",
        "# plot baseline and predictions\n",
        "plt.plot(scaler.inverse_transform(df1))\n",
        "plt.plot(trainPredictPlot)\n",
        "plt.plot(testPredictPlot)\n",
        "plt.show()"
      ]
    },
    {
      "cell_type": "code",
      "execution_count": null,
      "metadata": {
        "colab": {
          "base_uri": "https://localhost:8080/"
        },
        "id": "0xbhSy7Qjime",
        "outputId": "a46adb6a-d6ad-4fea-f842-f716904b1b64"
      },
      "outputs": [
        {
          "output_type": "execute_result",
          "data": {
            "text/plain": [
              "756"
            ]
          },
          "metadata": {},
          "execution_count": 26
        }
      ],
      "source": [
        "a=len(test_data)\n",
        "a"
      ]
    },
    {
      "cell_type": "code",
      "execution_count": null,
      "metadata": {
        "colab": {
          "base_uri": "https://localhost:8080/"
        },
        "id": "a7cJRS9wjips",
        "outputId": "18f733a7-43d1-4be9-e38e-8ef5537f939a"
      },
      "outputs": [
        {
          "output_type": "execute_result",
          "data": {
            "text/plain": [
              "(1, 100)"
            ]
          },
          "metadata": {},
          "execution_count": 27
        }
      ],
      "source": [
        "x_input=test_data[a-100:].reshape(1,-1)\n",
        "x_input.shape"
      ]
    },
    {
      "cell_type": "code",
      "execution_count": null,
      "metadata": {
        "id": "_jFPsHyNjis7"
      },
      "outputs": [],
      "source": [
        "temp_input=list(x_input)\n",
        "temp_input=temp_input[0].tolist()"
      ]
    },
    {
      "cell_type": "code",
      "execution_count": null,
      "metadata": {
        "colab": {
          "base_uri": "https://localhost:8080/"
        },
        "id": "SC4fgnEPjiwJ",
        "outputId": "25702e16-284e-4d3f-800c-a12fc3d307d4"
      },
      "outputs": [
        {
          "output_type": "execute_result",
          "data": {
            "text/plain": [
              "[0.6816733478901675,\n",
              " 0.6915630512834487,\n",
              " 0.695621505425452,\n",
              " 0.6928692237135163,\n",
              " 0.7124618101645284,\n",
              " 0.6976741028783837,\n",
              " 0.6928692237135163,\n",
              " 0.7102692758597959,\n",
              " 0.7585511290882672,\n",
              " 0.7507608352717223,\n",
              " 0.753979454223086,\n",
              " 0.7555656430766449,\n",
              " 0.7641024332759987,\n",
              " 0.7581699242630147,\n",
              " 0.7732580569168706,\n",
              " 0.7786299622033133,\n",
              " 0.7893271033722837,\n",
              " 0.7898876357388802,\n",
              " 0.7900277866705154,\n",
              " 0.7954931021247336,\n",
              " 0.8016125028332128,\n",
              " 0.7948391595903619,\n",
              " 0.7760607901097971,\n",
              " 0.7905415782732517,\n",
              " 0.7905883903970565,\n",
              " 0.7919896856335751,\n",
              " 0.7966609076217863,\n",
              " 0.8011453092744469,\n",
              " 0.8094600986854519,\n",
              " 0.8109549468096351,\n",
              " 0.8180551899597273,\n",
              " 0.8115621485801467,\n",
              " 0.8228198934756585,\n",
              " 0.8052092581322017,\n",
              " 0.8707467309786276,\n",
              " 0.8984005649566833,\n",
              " 0.9038658804109014,\n",
              " 0.8956912419315317,\n",
              " 0.9152169641142436,\n",
              " 0.9040993701503672,\n",
              " 0.8825650082407357,\n",
              " 0.8723350606305311,\n",
              " 0.8753712835629237,\n",
              " 0.8797156056438937,\n",
              " 0.8992413278266054,\n",
              " 0.9032119378765298,\n",
              " 0.8869559283656763,\n",
              " 0.9155906761452894,\n",
              " 0.9320334346317485,\n",
              " 0.9380126130486477,\n",
              " 0.9603878091881461,\n",
              " 0.9673013033626323,\n",
              " 0.971318511456527,\n",
              " 0.99140483736578,\n",
              " 0.9661334978655796,\n",
              " 0.9800070128985778,\n",
              " 0.9980380296769955,\n",
              " 1.0000000000000002,\n",
              " 0.9722528272141142,\n",
              " 0.950297941149632,\n",
              " 0.9509052142800885,\n",
              " 0.9492703579441595,\n",
              " 0.9541750696718363,\n",
              " 0.9239521349602093,\n",
              " 0.9190474232325325,\n",
              " 0.9212428832950028,\n",
              " 0.9225508397236908,\n",
              " 0.925166752581067,\n",
              " 0.9404883749743886,\n",
              " 0.9231113720902873,\n",
              " 0.930118205072604,\n",
              " 0.8806498500415361,\n",
              " 0.8711204430096735,\n",
              " 0.8832190221350522,\n",
              " 0.899521629689876,\n",
              " 0.9132083957472685,\n",
              " 0.9204103981786802,\n",
              " 0.937901077454887,\n",
              " 0.9400055535877061,\n",
              " 0.9540354896197596,\n",
              " 0.9602554364904967,\n",
              " 0.9595071561090671,\n",
              " 0.9624066533871758,\n",
              " 0.961892219544936,\n",
              " 0.9531469155868051,\n",
              " 0.963949954913895,\n",
              " 0.9655399972044743,\n",
              " 0.9695151742908674,\n",
              " 0.9623131718594558,\n",
              " 0.9777460444067585,\n",
              " 0.9740515259833602,\n",
              " 0.9449160454709138,\n",
              " 0.9359368949735929,\n",
              " 0.9430921566411445,\n",
              " 0.935796601322068,\n",
              " 0.9362174822766429,\n",
              " 0.9324761517294395,\n",
              " 0.944401611628674,\n",
              " 0.9449160454709138,\n",
              " 0.9436533312472444]"
            ]
          },
          "metadata": {},
          "execution_count": 29
        }
      ],
      "source": [
        "temp_input"
      ]
    },
    {
      "cell_type": "code",
      "execution_count": null,
      "metadata": {
        "colab": {
          "base_uri": "https://localhost:8080/"
        },
        "id": "y8dTAj8Tjizr",
        "outputId": "b582c155-26ed-4b9b-ea99-730057f4fd95"
      },
      "outputs": [
        {
          "output_type": "stream",
          "name": "stdout",
          "text": [
            "[0.86625737]\n",
            "101\n",
            "1 day input [0.69156305 0.69562151 0.69286922 0.71246181 0.6976741  0.69286922\n",
            " 0.71026928 0.75855113 0.75076084 0.75397945 0.75556564 0.76410243\n",
            " 0.75816992 0.77325806 0.77862996 0.7893271  0.78988764 0.79002779\n",
            " 0.7954931  0.8016125  0.79483916 0.77606079 0.79054158 0.79058839\n",
            " 0.79198969 0.79666091 0.80114531 0.8094601  0.81095495 0.81805519\n",
            " 0.81156215 0.82281989 0.80520926 0.87074673 0.89840056 0.90386588\n",
            " 0.89569124 0.91521696 0.90409937 0.88256501 0.87233506 0.87537128\n",
            " 0.87971561 0.89924133 0.90321194 0.88695593 0.91559068 0.93203343\n",
            " 0.93801261 0.96038781 0.9673013  0.97131851 0.99140484 0.9661335\n",
            " 0.98000701 0.99803803 1.         0.97225283 0.95029794 0.95090521\n",
            " 0.94927036 0.95417507 0.92395213 0.91904742 0.92124288 0.92255084\n",
            " 0.92516675 0.94048837 0.92311137 0.93011821 0.88064985 0.87112044\n",
            " 0.88321902 0.89952163 0.9132084  0.9204104  0.93790108 0.94000555\n",
            " 0.95403549 0.96025544 0.95950716 0.96240665 0.96189222 0.95314692\n",
            " 0.96394995 0.96554    0.96951517 0.96231317 0.97774604 0.97405153\n",
            " 0.94491605 0.93593689 0.94309216 0.9357966  0.93621748 0.93247615\n",
            " 0.94440161 0.94491605 0.94365333 0.86625737]\n",
            "1 day output [[0.8647276]]\n",
            "2 day input [0.69562151 0.69286922 0.71246181 0.6976741  0.69286922 0.71026928\n",
            " 0.75855113 0.75076084 0.75397945 0.75556564 0.76410243 0.75816992\n",
            " 0.77325806 0.77862996 0.7893271  0.78988764 0.79002779 0.7954931\n",
            " 0.8016125  0.79483916 0.77606079 0.79054158 0.79058839 0.79198969\n",
            " 0.79666091 0.80114531 0.8094601  0.81095495 0.81805519 0.81156215\n",
            " 0.82281989 0.80520926 0.87074673 0.89840056 0.90386588 0.89569124\n",
            " 0.91521696 0.90409937 0.88256501 0.87233506 0.87537128 0.87971561\n",
            " 0.89924133 0.90321194 0.88695593 0.91559068 0.93203343 0.93801261\n",
            " 0.96038781 0.9673013  0.97131851 0.99140484 0.9661335  0.98000701\n",
            " 0.99803803 1.         0.97225283 0.95029794 0.95090521 0.94927036\n",
            " 0.95417507 0.92395213 0.91904742 0.92124288 0.92255084 0.92516675\n",
            " 0.94048837 0.92311137 0.93011821 0.88064985 0.87112044 0.88321902\n",
            " 0.89952163 0.9132084  0.9204104  0.93790108 0.94000555 0.95403549\n",
            " 0.96025544 0.95950716 0.96240665 0.96189222 0.95314692 0.96394995\n",
            " 0.96554    0.96951517 0.96231317 0.97774604 0.97405153 0.94491605\n",
            " 0.93593689 0.94309216 0.9357966  0.93621748 0.93247615 0.94440161\n",
            " 0.94491605 0.94365333 0.86625737 0.86472762]\n",
            "2 day output [[0.8623923]]\n",
            "3 day input [0.69286922 0.71246181 0.6976741  0.69286922 0.71026928 0.75855113\n",
            " 0.75076084 0.75397945 0.75556564 0.76410243 0.75816992 0.77325806\n",
            " 0.77862996 0.7893271  0.78988764 0.79002779 0.7954931  0.8016125\n",
            " 0.79483916 0.77606079 0.79054158 0.79058839 0.79198969 0.79666091\n",
            " 0.80114531 0.8094601  0.81095495 0.81805519 0.81156215 0.82281989\n",
            " 0.80520926 0.87074673 0.89840056 0.90386588 0.89569124 0.91521696\n",
            " 0.90409937 0.88256501 0.87233506 0.87537128 0.87971561 0.89924133\n",
            " 0.90321194 0.88695593 0.91559068 0.93203343 0.93801261 0.96038781\n",
            " 0.9673013  0.97131851 0.99140484 0.9661335  0.98000701 0.99803803\n",
            " 1.         0.97225283 0.95029794 0.95090521 0.94927036 0.95417507\n",
            " 0.92395213 0.91904742 0.92124288 0.92255084 0.92516675 0.94048837\n",
            " 0.92311137 0.93011821 0.88064985 0.87112044 0.88321902 0.89952163\n",
            " 0.9132084  0.9204104  0.93790108 0.94000555 0.95403549 0.96025544\n",
            " 0.95950716 0.96240665 0.96189222 0.95314692 0.96394995 0.96554\n",
            " 0.96951517 0.96231317 0.97774604 0.97405153 0.94491605 0.93593689\n",
            " 0.94309216 0.9357966  0.93621748 0.93247615 0.94440161 0.94491605\n",
            " 0.94365333 0.86625737 0.86472762 0.86239231]\n",
            "3 day output [[0.85919636]]\n",
            "4 day input [0.71246181 0.6976741  0.69286922 0.71026928 0.75855113 0.75076084\n",
            " 0.75397945 0.75556564 0.76410243 0.75816992 0.77325806 0.77862996\n",
            " 0.7893271  0.78988764 0.79002779 0.7954931  0.8016125  0.79483916\n",
            " 0.77606079 0.79054158 0.79058839 0.79198969 0.79666091 0.80114531\n",
            " 0.8094601  0.81095495 0.81805519 0.81156215 0.82281989 0.80520926\n",
            " 0.87074673 0.89840056 0.90386588 0.89569124 0.91521696 0.90409937\n",
            " 0.88256501 0.87233506 0.87537128 0.87971561 0.89924133 0.90321194\n",
            " 0.88695593 0.91559068 0.93203343 0.93801261 0.96038781 0.9673013\n",
            " 0.97131851 0.99140484 0.9661335  0.98000701 0.99803803 1.\n",
            " 0.97225283 0.95029794 0.95090521 0.94927036 0.95417507 0.92395213\n",
            " 0.91904742 0.92124288 0.92255084 0.92516675 0.94048837 0.92311137\n",
            " 0.93011821 0.88064985 0.87112044 0.88321902 0.89952163 0.9132084\n",
            " 0.9204104  0.93790108 0.94000555 0.95403549 0.96025544 0.95950716\n",
            " 0.96240665 0.96189222 0.95314692 0.96394995 0.96554    0.96951517\n",
            " 0.96231317 0.97774604 0.97405153 0.94491605 0.93593689 0.94309216\n",
            " 0.9357966  0.93621748 0.93247615 0.94440161 0.94491605 0.94365333\n",
            " 0.86625737 0.86472762 0.86239231 0.85919636]\n",
            "4 day output [[0.85520077]]\n",
            "5 day input [0.6976741  0.69286922 0.71026928 0.75855113 0.75076084 0.75397945\n",
            " 0.75556564 0.76410243 0.75816992 0.77325806 0.77862996 0.7893271\n",
            " 0.78988764 0.79002779 0.7954931  0.8016125  0.79483916 0.77606079\n",
            " 0.79054158 0.79058839 0.79198969 0.79666091 0.80114531 0.8094601\n",
            " 0.81095495 0.81805519 0.81156215 0.82281989 0.80520926 0.87074673\n",
            " 0.89840056 0.90386588 0.89569124 0.91521696 0.90409937 0.88256501\n",
            " 0.87233506 0.87537128 0.87971561 0.89924133 0.90321194 0.88695593\n",
            " 0.91559068 0.93203343 0.93801261 0.96038781 0.9673013  0.97131851\n",
            " 0.99140484 0.9661335  0.98000701 0.99803803 1.         0.97225283\n",
            " 0.95029794 0.95090521 0.94927036 0.95417507 0.92395213 0.91904742\n",
            " 0.92124288 0.92255084 0.92516675 0.94048837 0.92311137 0.93011821\n",
            " 0.88064985 0.87112044 0.88321902 0.89952163 0.9132084  0.9204104\n",
            " 0.93790108 0.94000555 0.95403549 0.96025544 0.95950716 0.96240665\n",
            " 0.96189222 0.95314692 0.96394995 0.96554    0.96951517 0.96231317\n",
            " 0.97774604 0.97405153 0.94491605 0.93593689 0.94309216 0.9357966\n",
            " 0.93621748 0.93247615 0.94440161 0.94491605 0.94365333 0.86625737\n",
            " 0.86472762 0.86239231 0.85919636 0.85520077]\n",
            "5 day output [[0.85052866]]\n",
            "6 day input [0.69286922 0.71026928 0.75855113 0.75076084 0.75397945 0.75556564\n",
            " 0.76410243 0.75816992 0.77325806 0.77862996 0.7893271  0.78988764\n",
            " 0.79002779 0.7954931  0.8016125  0.79483916 0.77606079 0.79054158\n",
            " 0.79058839 0.79198969 0.79666091 0.80114531 0.8094601  0.81095495\n",
            " 0.81805519 0.81156215 0.82281989 0.80520926 0.87074673 0.89840056\n",
            " 0.90386588 0.89569124 0.91521696 0.90409937 0.88256501 0.87233506\n",
            " 0.87537128 0.87971561 0.89924133 0.90321194 0.88695593 0.91559068\n",
            " 0.93203343 0.93801261 0.96038781 0.9673013  0.97131851 0.99140484\n",
            " 0.9661335  0.98000701 0.99803803 1.         0.97225283 0.95029794\n",
            " 0.95090521 0.94927036 0.95417507 0.92395213 0.91904742 0.92124288\n",
            " 0.92255084 0.92516675 0.94048837 0.92311137 0.93011821 0.88064985\n",
            " 0.87112044 0.88321902 0.89952163 0.9132084  0.9204104  0.93790108\n",
            " 0.94000555 0.95403549 0.96025544 0.95950716 0.96240665 0.96189222\n",
            " 0.95314692 0.96394995 0.96554    0.96951517 0.96231317 0.97774604\n",
            " 0.97405153 0.94491605 0.93593689 0.94309216 0.9357966  0.93621748\n",
            " 0.93247615 0.94440161 0.94491605 0.94365333 0.86625737 0.86472762\n",
            " 0.86239231 0.85919636 0.85520077 0.85052866]\n",
            "6 day output [[0.845328]]\n",
            "7 day input [0.71026928 0.75855113 0.75076084 0.75397945 0.75556564 0.76410243\n",
            " 0.75816992 0.77325806 0.77862996 0.7893271  0.78988764 0.79002779\n",
            " 0.7954931  0.8016125  0.79483916 0.77606079 0.79054158 0.79058839\n",
            " 0.79198969 0.79666091 0.80114531 0.8094601  0.81095495 0.81805519\n",
            " 0.81156215 0.82281989 0.80520926 0.87074673 0.89840056 0.90386588\n",
            " 0.89569124 0.91521696 0.90409937 0.88256501 0.87233506 0.87537128\n",
            " 0.87971561 0.89924133 0.90321194 0.88695593 0.91559068 0.93203343\n",
            " 0.93801261 0.96038781 0.9673013  0.97131851 0.99140484 0.9661335\n",
            " 0.98000701 0.99803803 1.         0.97225283 0.95029794 0.95090521\n",
            " 0.94927036 0.95417507 0.92395213 0.91904742 0.92124288 0.92255084\n",
            " 0.92516675 0.94048837 0.92311137 0.93011821 0.88064985 0.87112044\n",
            " 0.88321902 0.89952163 0.9132084  0.9204104  0.93790108 0.94000555\n",
            " 0.95403549 0.96025544 0.95950716 0.96240665 0.96189222 0.95314692\n",
            " 0.96394995 0.96554    0.96951517 0.96231317 0.97774604 0.97405153\n",
            " 0.94491605 0.93593689 0.94309216 0.9357966  0.93621748 0.93247615\n",
            " 0.94440161 0.94491605 0.94365333 0.86625737 0.86472762 0.86239231\n",
            " 0.85919636 0.85520077 0.85052866 0.84532797]\n",
            "7 day output [[0.8397474]]\n",
            "8 day input [0.75855113 0.75076084 0.75397945 0.75556564 0.76410243 0.75816992\n",
            " 0.77325806 0.77862996 0.7893271  0.78988764 0.79002779 0.7954931\n",
            " 0.8016125  0.79483916 0.77606079 0.79054158 0.79058839 0.79198969\n",
            " 0.79666091 0.80114531 0.8094601  0.81095495 0.81805519 0.81156215\n",
            " 0.82281989 0.80520926 0.87074673 0.89840056 0.90386588 0.89569124\n",
            " 0.91521696 0.90409937 0.88256501 0.87233506 0.87537128 0.87971561\n",
            " 0.89924133 0.90321194 0.88695593 0.91559068 0.93203343 0.93801261\n",
            " 0.96038781 0.9673013  0.97131851 0.99140484 0.9661335  0.98000701\n",
            " 0.99803803 1.         0.97225283 0.95029794 0.95090521 0.94927036\n",
            " 0.95417507 0.92395213 0.91904742 0.92124288 0.92255084 0.92516675\n",
            " 0.94048837 0.92311137 0.93011821 0.88064985 0.87112044 0.88321902\n",
            " 0.89952163 0.9132084  0.9204104  0.93790108 0.94000555 0.95403549\n",
            " 0.96025544 0.95950716 0.96240665 0.96189222 0.95314692 0.96394995\n",
            " 0.96554    0.96951517 0.96231317 0.97774604 0.97405153 0.94491605\n",
            " 0.93593689 0.94309216 0.9357966  0.93621748 0.93247615 0.94440161\n",
            " 0.94491605 0.94365333 0.86625737 0.86472762 0.86239231 0.85919636\n",
            " 0.85520077 0.85052866 0.84532797 0.83974743]\n",
            "8 day output [[0.83391917]]\n",
            "9 day input [0.75076084 0.75397945 0.75556564 0.76410243 0.75816992 0.77325806\n",
            " 0.77862996 0.7893271  0.78988764 0.79002779 0.7954931  0.8016125\n",
            " 0.79483916 0.77606079 0.79054158 0.79058839 0.79198969 0.79666091\n",
            " 0.80114531 0.8094601  0.81095495 0.81805519 0.81156215 0.82281989\n",
            " 0.80520926 0.87074673 0.89840056 0.90386588 0.89569124 0.91521696\n",
            " 0.90409937 0.88256501 0.87233506 0.87537128 0.87971561 0.89924133\n",
            " 0.90321194 0.88695593 0.91559068 0.93203343 0.93801261 0.96038781\n",
            " 0.9673013  0.97131851 0.99140484 0.9661335  0.98000701 0.99803803\n",
            " 1.         0.97225283 0.95029794 0.95090521 0.94927036 0.95417507\n",
            " 0.92395213 0.91904742 0.92124288 0.92255084 0.92516675 0.94048837\n",
            " 0.92311137 0.93011821 0.88064985 0.87112044 0.88321902 0.89952163\n",
            " 0.9132084  0.9204104  0.93790108 0.94000555 0.95403549 0.96025544\n",
            " 0.95950716 0.96240665 0.96189222 0.95314692 0.96394995 0.96554\n",
            " 0.96951517 0.96231317 0.97774604 0.97405153 0.94491605 0.93593689\n",
            " 0.94309216 0.9357966  0.93621748 0.93247615 0.94440161 0.94491605\n",
            " 0.94365333 0.86625737 0.86472762 0.86239231 0.85919636 0.85520077\n",
            " 0.85052866 0.84532797 0.83974743 0.83391917]\n",
            "9 day output [[0.8279565]]\n",
            "10 day input [0.75397945 0.75556564 0.76410243 0.75816992 0.77325806 0.77862996\n",
            " 0.7893271  0.78988764 0.79002779 0.7954931  0.8016125  0.79483916\n",
            " 0.77606079 0.79054158 0.79058839 0.79198969 0.79666091 0.80114531\n",
            " 0.8094601  0.81095495 0.81805519 0.81156215 0.82281989 0.80520926\n",
            " 0.87074673 0.89840056 0.90386588 0.89569124 0.91521696 0.90409937\n",
            " 0.88256501 0.87233506 0.87537128 0.87971561 0.89924133 0.90321194\n",
            " 0.88695593 0.91559068 0.93203343 0.93801261 0.96038781 0.9673013\n",
            " 0.97131851 0.99140484 0.9661335  0.98000701 0.99803803 1.\n",
            " 0.97225283 0.95029794 0.95090521 0.94927036 0.95417507 0.92395213\n",
            " 0.91904742 0.92124288 0.92255084 0.92516675 0.94048837 0.92311137\n",
            " 0.93011821 0.88064985 0.87112044 0.88321902 0.89952163 0.9132084\n",
            " 0.9204104  0.93790108 0.94000555 0.95403549 0.96025544 0.95950716\n",
            " 0.96240665 0.96189222 0.95314692 0.96394995 0.96554    0.96951517\n",
            " 0.96231317 0.97774604 0.97405153 0.94491605 0.93593689 0.94309216\n",
            " 0.9357966  0.93621748 0.93247615 0.94440161 0.94491605 0.94365333\n",
            " 0.86625737 0.86472762 0.86239231 0.85919636 0.85520077 0.85052866\n",
            " 0.84532797 0.83974743 0.83391917 0.8279565 ]\n",
            "10 day output [[0.82194674]]\n",
            "11 day input [0.75556564 0.76410243 0.75816992 0.77325806 0.77862996 0.7893271\n",
            " 0.78988764 0.79002779 0.7954931  0.8016125  0.79483916 0.77606079\n",
            " 0.79054158 0.79058839 0.79198969 0.79666091 0.80114531 0.8094601\n",
            " 0.81095495 0.81805519 0.81156215 0.82281989 0.80520926 0.87074673\n",
            " 0.89840056 0.90386588 0.89569124 0.91521696 0.90409937 0.88256501\n",
            " 0.87233506 0.87537128 0.87971561 0.89924133 0.90321194 0.88695593\n",
            " 0.91559068 0.93203343 0.93801261 0.96038781 0.9673013  0.97131851\n",
            " 0.99140484 0.9661335  0.98000701 0.99803803 1.         0.97225283\n",
            " 0.95029794 0.95090521 0.94927036 0.95417507 0.92395213 0.91904742\n",
            " 0.92124288 0.92255084 0.92516675 0.94048837 0.92311137 0.93011821\n",
            " 0.88064985 0.87112044 0.88321902 0.89952163 0.9132084  0.9204104\n",
            " 0.93790108 0.94000555 0.95403549 0.96025544 0.95950716 0.96240665\n",
            " 0.96189222 0.95314692 0.96394995 0.96554    0.96951517 0.96231317\n",
            " 0.97774604 0.97405153 0.94491605 0.93593689 0.94309216 0.9357966\n",
            " 0.93621748 0.93247615 0.94440161 0.94491605 0.94365333 0.86625737\n",
            " 0.86472762 0.86239231 0.85919636 0.85520077 0.85052866 0.84532797\n",
            " 0.83974743 0.83391917 0.8279565  0.82194674]\n",
            "11 day output [[0.81595665]]\n",
            "12 day input [0.76410243 0.75816992 0.77325806 0.77862996 0.7893271  0.78988764\n",
            " 0.79002779 0.7954931  0.8016125  0.79483916 0.77606079 0.79054158\n",
            " 0.79058839 0.79198969 0.79666091 0.80114531 0.8094601  0.81095495\n",
            " 0.81805519 0.81156215 0.82281989 0.80520926 0.87074673 0.89840056\n",
            " 0.90386588 0.89569124 0.91521696 0.90409937 0.88256501 0.87233506\n",
            " 0.87537128 0.87971561 0.89924133 0.90321194 0.88695593 0.91559068\n",
            " 0.93203343 0.93801261 0.96038781 0.9673013  0.97131851 0.99140484\n",
            " 0.9661335  0.98000701 0.99803803 1.         0.97225283 0.95029794\n",
            " 0.95090521 0.94927036 0.95417507 0.92395213 0.91904742 0.92124288\n",
            " 0.92255084 0.92516675 0.94048837 0.92311137 0.93011821 0.88064985\n",
            " 0.87112044 0.88321902 0.89952163 0.9132084  0.9204104  0.93790108\n",
            " 0.94000555 0.95403549 0.96025544 0.95950716 0.96240665 0.96189222\n",
            " 0.95314692 0.96394995 0.96554    0.96951517 0.96231317 0.97774604\n",
            " 0.97405153 0.94491605 0.93593689 0.94309216 0.9357966  0.93621748\n",
            " 0.93247615 0.94440161 0.94491605 0.94365333 0.86625737 0.86472762\n",
            " 0.86239231 0.85919636 0.85520077 0.85052866 0.84532797 0.83974743\n",
            " 0.83391917 0.8279565  0.82194674 0.81595665]\n",
            "12 day output [[0.81003267]]\n",
            "13 day input [0.75816992 0.77325806 0.77862996 0.7893271  0.78988764 0.79002779\n",
            " 0.7954931  0.8016125  0.79483916 0.77606079 0.79054158 0.79058839\n",
            " 0.79198969 0.79666091 0.80114531 0.8094601  0.81095495 0.81805519\n",
            " 0.81156215 0.82281989 0.80520926 0.87074673 0.89840056 0.90386588\n",
            " 0.89569124 0.91521696 0.90409937 0.88256501 0.87233506 0.87537128\n",
            " 0.87971561 0.89924133 0.90321194 0.88695593 0.91559068 0.93203343\n",
            " 0.93801261 0.96038781 0.9673013  0.97131851 0.99140484 0.9661335\n",
            " 0.98000701 0.99803803 1.         0.97225283 0.95029794 0.95090521\n",
            " 0.94927036 0.95417507 0.92395213 0.91904742 0.92124288 0.92255084\n",
            " 0.92516675 0.94048837 0.92311137 0.93011821 0.88064985 0.87112044\n",
            " 0.88321902 0.89952163 0.9132084  0.9204104  0.93790108 0.94000555\n",
            " 0.95403549 0.96025544 0.95950716 0.96240665 0.96189222 0.95314692\n",
            " 0.96394995 0.96554    0.96951517 0.96231317 0.97774604 0.97405153\n",
            " 0.94491605 0.93593689 0.94309216 0.9357966  0.93621748 0.93247615\n",
            " 0.94440161 0.94491605 0.94365333 0.86625737 0.86472762 0.86239231\n",
            " 0.85919636 0.85520077 0.85052866 0.84532797 0.83974743 0.83391917\n",
            " 0.8279565  0.82194674 0.81595665 0.81003267]\n",
            "13 day output [[0.80420655]]\n",
            "14 day input [0.77325806 0.77862996 0.7893271  0.78988764 0.79002779 0.7954931\n",
            " 0.8016125  0.79483916 0.77606079 0.79054158 0.79058839 0.79198969\n",
            " 0.79666091 0.80114531 0.8094601  0.81095495 0.81805519 0.81156215\n",
            " 0.82281989 0.80520926 0.87074673 0.89840056 0.90386588 0.89569124\n",
            " 0.91521696 0.90409937 0.88256501 0.87233506 0.87537128 0.87971561\n",
            " 0.89924133 0.90321194 0.88695593 0.91559068 0.93203343 0.93801261\n",
            " 0.96038781 0.9673013  0.97131851 0.99140484 0.9661335  0.98000701\n",
            " 0.99803803 1.         0.97225283 0.95029794 0.95090521 0.94927036\n",
            " 0.95417507 0.92395213 0.91904742 0.92124288 0.92255084 0.92516675\n",
            " 0.94048837 0.92311137 0.93011821 0.88064985 0.87112044 0.88321902\n",
            " 0.89952163 0.9132084  0.9204104  0.93790108 0.94000555 0.95403549\n",
            " 0.96025544 0.95950716 0.96240665 0.96189222 0.95314692 0.96394995\n",
            " 0.96554    0.96951517 0.96231317 0.97774604 0.97405153 0.94491605\n",
            " 0.93593689 0.94309216 0.9357966  0.93621748 0.93247615 0.94440161\n",
            " 0.94491605 0.94365333 0.86625737 0.86472762 0.86239231 0.85919636\n",
            " 0.85520077 0.85052866 0.84532797 0.83974743 0.83391917 0.8279565\n",
            " 0.82194674 0.81595665 0.81003267 0.80420655]\n",
            "14 day output [[0.798496]]\n",
            "15 day input [0.77862996 0.7893271  0.78988764 0.79002779 0.7954931  0.8016125\n",
            " 0.79483916 0.77606079 0.79054158 0.79058839 0.79198969 0.79666091\n",
            " 0.80114531 0.8094601  0.81095495 0.81805519 0.81156215 0.82281989\n",
            " 0.80520926 0.87074673 0.89840056 0.90386588 0.89569124 0.91521696\n",
            " 0.90409937 0.88256501 0.87233506 0.87537128 0.87971561 0.89924133\n",
            " 0.90321194 0.88695593 0.91559068 0.93203343 0.93801261 0.96038781\n",
            " 0.9673013  0.97131851 0.99140484 0.9661335  0.98000701 0.99803803\n",
            " 1.         0.97225283 0.95029794 0.95090521 0.94927036 0.95417507\n",
            " 0.92395213 0.91904742 0.92124288 0.92255084 0.92516675 0.94048837\n",
            " 0.92311137 0.93011821 0.88064985 0.87112044 0.88321902 0.89952163\n",
            " 0.9132084  0.9204104  0.93790108 0.94000555 0.95403549 0.96025544\n",
            " 0.95950716 0.96240665 0.96189222 0.95314692 0.96394995 0.96554\n",
            " 0.96951517 0.96231317 0.97774604 0.97405153 0.94491605 0.93593689\n",
            " 0.94309216 0.9357966  0.93621748 0.93247615 0.94440161 0.94491605\n",
            " 0.94365333 0.86625737 0.86472762 0.86239231 0.85919636 0.85520077\n",
            " 0.85052866 0.84532797 0.83974743 0.83391917 0.8279565  0.82194674\n",
            " 0.81595665 0.81003267 0.80420655 0.79849601]\n",
            "15 day output [[0.7929103]]\n",
            "16 day input [0.7893271  0.78988764 0.79002779 0.7954931  0.8016125  0.79483916\n",
            " 0.77606079 0.79054158 0.79058839 0.79198969 0.79666091 0.80114531\n",
            " 0.8094601  0.81095495 0.81805519 0.81156215 0.82281989 0.80520926\n",
            " 0.87074673 0.89840056 0.90386588 0.89569124 0.91521696 0.90409937\n",
            " 0.88256501 0.87233506 0.87537128 0.87971561 0.89924133 0.90321194\n",
            " 0.88695593 0.91559068 0.93203343 0.93801261 0.96038781 0.9673013\n",
            " 0.97131851 0.99140484 0.9661335  0.98000701 0.99803803 1.\n",
            " 0.97225283 0.95029794 0.95090521 0.94927036 0.95417507 0.92395213\n",
            " 0.91904742 0.92124288 0.92255084 0.92516675 0.94048837 0.92311137\n",
            " 0.93011821 0.88064985 0.87112044 0.88321902 0.89952163 0.9132084\n",
            " 0.9204104  0.93790108 0.94000555 0.95403549 0.96025544 0.95950716\n",
            " 0.96240665 0.96189222 0.95314692 0.96394995 0.96554    0.96951517\n",
            " 0.96231317 0.97774604 0.97405153 0.94491605 0.93593689 0.94309216\n",
            " 0.9357966  0.93621748 0.93247615 0.94440161 0.94491605 0.94365333\n",
            " 0.86625737 0.86472762 0.86239231 0.85919636 0.85520077 0.85052866\n",
            " 0.84532797 0.83974743 0.83391917 0.8279565  0.82194674 0.81595665\n",
            " 0.81003267 0.80420655 0.79849601 0.79291028]\n",
            "16 day output [[0.78745264]]\n",
            "17 day input [0.78988764 0.79002779 0.7954931  0.8016125  0.79483916 0.77606079\n",
            " 0.79054158 0.79058839 0.79198969 0.79666091 0.80114531 0.8094601\n",
            " 0.81095495 0.81805519 0.81156215 0.82281989 0.80520926 0.87074673\n",
            " 0.89840056 0.90386588 0.89569124 0.91521696 0.90409937 0.88256501\n",
            " 0.87233506 0.87537128 0.87971561 0.89924133 0.90321194 0.88695593\n",
            " 0.91559068 0.93203343 0.93801261 0.96038781 0.9673013  0.97131851\n",
            " 0.99140484 0.9661335  0.98000701 0.99803803 1.         0.97225283\n",
            " 0.95029794 0.95090521 0.94927036 0.95417507 0.92395213 0.91904742\n",
            " 0.92124288 0.92255084 0.92516675 0.94048837 0.92311137 0.93011821\n",
            " 0.88064985 0.87112044 0.88321902 0.89952163 0.9132084  0.9204104\n",
            " 0.93790108 0.94000555 0.95403549 0.96025544 0.95950716 0.96240665\n",
            " 0.96189222 0.95314692 0.96394995 0.96554    0.96951517 0.96231317\n",
            " 0.97774604 0.97405153 0.94491605 0.93593689 0.94309216 0.9357966\n",
            " 0.93621748 0.93247615 0.94440161 0.94491605 0.94365333 0.86625737\n",
            " 0.86472762 0.86239231 0.85919636 0.85520077 0.85052866 0.84532797\n",
            " 0.83974743 0.83391917 0.8279565  0.82194674 0.81595665 0.81003267\n",
            " 0.80420655 0.79849601 0.79291028 0.78745264]\n",
            "17 day output [[0.7821216]]\n",
            "18 day input [0.79002779 0.7954931  0.8016125  0.79483916 0.77606079 0.79054158\n",
            " 0.79058839 0.79198969 0.79666091 0.80114531 0.8094601  0.81095495\n",
            " 0.81805519 0.81156215 0.82281989 0.80520926 0.87074673 0.89840056\n",
            " 0.90386588 0.89569124 0.91521696 0.90409937 0.88256501 0.87233506\n",
            " 0.87537128 0.87971561 0.89924133 0.90321194 0.88695593 0.91559068\n",
            " 0.93203343 0.93801261 0.96038781 0.9673013  0.97131851 0.99140484\n",
            " 0.9661335  0.98000701 0.99803803 1.         0.97225283 0.95029794\n",
            " 0.95090521 0.94927036 0.95417507 0.92395213 0.91904742 0.92124288\n",
            " 0.92255084 0.92516675 0.94048837 0.92311137 0.93011821 0.88064985\n",
            " 0.87112044 0.88321902 0.89952163 0.9132084  0.9204104  0.93790108\n",
            " 0.94000555 0.95403549 0.96025544 0.95950716 0.96240665 0.96189222\n",
            " 0.95314692 0.96394995 0.96554    0.96951517 0.96231317 0.97774604\n",
            " 0.97405153 0.94491605 0.93593689 0.94309216 0.9357966  0.93621748\n",
            " 0.93247615 0.94440161 0.94491605 0.94365333 0.86625737 0.86472762\n",
            " 0.86239231 0.85919636 0.85520077 0.85052866 0.84532797 0.83974743\n",
            " 0.83391917 0.8279565  0.82194674 0.81595665 0.81003267 0.80420655\n",
            " 0.79849601 0.79291028 0.78745264 0.7821216 ]\n",
            "18 day output [[0.77691364]]\n",
            "19 day input [0.7954931  0.8016125  0.79483916 0.77606079 0.79054158 0.79058839\n",
            " 0.79198969 0.79666091 0.80114531 0.8094601  0.81095495 0.81805519\n",
            " 0.81156215 0.82281989 0.80520926 0.87074673 0.89840056 0.90386588\n",
            " 0.89569124 0.91521696 0.90409937 0.88256501 0.87233506 0.87537128\n",
            " 0.87971561 0.89924133 0.90321194 0.88695593 0.91559068 0.93203343\n",
            " 0.93801261 0.96038781 0.9673013  0.97131851 0.99140484 0.9661335\n",
            " 0.98000701 0.99803803 1.         0.97225283 0.95029794 0.95090521\n",
            " 0.94927036 0.95417507 0.92395213 0.91904742 0.92124288 0.92255084\n",
            " 0.92516675 0.94048837 0.92311137 0.93011821 0.88064985 0.87112044\n",
            " 0.88321902 0.89952163 0.9132084  0.9204104  0.93790108 0.94000555\n",
            " 0.95403549 0.96025544 0.95950716 0.96240665 0.96189222 0.95314692\n",
            " 0.96394995 0.96554    0.96951517 0.96231317 0.97774604 0.97405153\n",
            " 0.94491605 0.93593689 0.94309216 0.9357966  0.93621748 0.93247615\n",
            " 0.94440161 0.94491605 0.94365333 0.86625737 0.86472762 0.86239231\n",
            " 0.85919636 0.85520077 0.85052866 0.84532797 0.83974743 0.83391917\n",
            " 0.8279565  0.82194674 0.81595665 0.81003267 0.80420655 0.79849601\n",
            " 0.79291028 0.78745264 0.7821216  0.77691364]\n",
            "19 day output [[0.77182394]]\n",
            "20 day input [0.8016125  0.79483916 0.77606079 0.79054158 0.79058839 0.79198969\n",
            " 0.79666091 0.80114531 0.8094601  0.81095495 0.81805519 0.81156215\n",
            " 0.82281989 0.80520926 0.87074673 0.89840056 0.90386588 0.89569124\n",
            " 0.91521696 0.90409937 0.88256501 0.87233506 0.87537128 0.87971561\n",
            " 0.89924133 0.90321194 0.88695593 0.91559068 0.93203343 0.93801261\n",
            " 0.96038781 0.9673013  0.97131851 0.99140484 0.9661335  0.98000701\n",
            " 0.99803803 1.         0.97225283 0.95029794 0.95090521 0.94927036\n",
            " 0.95417507 0.92395213 0.91904742 0.92124288 0.92255084 0.92516675\n",
            " 0.94048837 0.92311137 0.93011821 0.88064985 0.87112044 0.88321902\n",
            " 0.89952163 0.9132084  0.9204104  0.93790108 0.94000555 0.95403549\n",
            " 0.96025544 0.95950716 0.96240665 0.96189222 0.95314692 0.96394995\n",
            " 0.96554    0.96951517 0.96231317 0.97774604 0.97405153 0.94491605\n",
            " 0.93593689 0.94309216 0.9357966  0.93621748 0.93247615 0.94440161\n",
            " 0.94491605 0.94365333 0.86625737 0.86472762 0.86239231 0.85919636\n",
            " 0.85520077 0.85052866 0.84532797 0.83974743 0.83391917 0.8279565\n",
            " 0.82194674 0.81595665 0.81003267 0.80420655 0.79849601 0.79291028\n",
            " 0.78745264 0.7821216  0.77691364 0.77182394]\n",
            "20 day output [[0.76684636]]\n",
            "21 day input [0.79483916 0.77606079 0.79054158 0.79058839 0.79198969 0.79666091\n",
            " 0.80114531 0.8094601  0.81095495 0.81805519 0.81156215 0.82281989\n",
            " 0.80520926 0.87074673 0.89840056 0.90386588 0.89569124 0.91521696\n",
            " 0.90409937 0.88256501 0.87233506 0.87537128 0.87971561 0.89924133\n",
            " 0.90321194 0.88695593 0.91559068 0.93203343 0.93801261 0.96038781\n",
            " 0.9673013  0.97131851 0.99140484 0.9661335  0.98000701 0.99803803\n",
            " 1.         0.97225283 0.95029794 0.95090521 0.94927036 0.95417507\n",
            " 0.92395213 0.91904742 0.92124288 0.92255084 0.92516675 0.94048837\n",
            " 0.92311137 0.93011821 0.88064985 0.87112044 0.88321902 0.89952163\n",
            " 0.9132084  0.9204104  0.93790108 0.94000555 0.95403549 0.96025544\n",
            " 0.95950716 0.96240665 0.96189222 0.95314692 0.96394995 0.96554\n",
            " 0.96951517 0.96231317 0.97774604 0.97405153 0.94491605 0.93593689\n",
            " 0.94309216 0.9357966  0.93621748 0.93247615 0.94440161 0.94491605\n",
            " 0.94365333 0.86625737 0.86472762 0.86239231 0.85919636 0.85520077\n",
            " 0.85052866 0.84532797 0.83974743 0.83391917 0.8279565  0.82194674\n",
            " 0.81595665 0.81003267 0.80420655 0.79849601 0.79291028 0.78745264\n",
            " 0.7821216  0.77691364 0.77182394 0.76684636]\n",
            "21 day output [[0.7619758]]\n",
            "22 day input [0.77606079 0.79054158 0.79058839 0.79198969 0.79666091 0.80114531\n",
            " 0.8094601  0.81095495 0.81805519 0.81156215 0.82281989 0.80520926\n",
            " 0.87074673 0.89840056 0.90386588 0.89569124 0.91521696 0.90409937\n",
            " 0.88256501 0.87233506 0.87537128 0.87971561 0.89924133 0.90321194\n",
            " 0.88695593 0.91559068 0.93203343 0.93801261 0.96038781 0.9673013\n",
            " 0.97131851 0.99140484 0.9661335  0.98000701 0.99803803 1.\n",
            " 0.97225283 0.95029794 0.95090521 0.94927036 0.95417507 0.92395213\n",
            " 0.91904742 0.92124288 0.92255084 0.92516675 0.94048837 0.92311137\n",
            " 0.93011821 0.88064985 0.87112044 0.88321902 0.89952163 0.9132084\n",
            " 0.9204104  0.93790108 0.94000555 0.95403549 0.96025544 0.95950716\n",
            " 0.96240665 0.96189222 0.95314692 0.96394995 0.96554    0.96951517\n",
            " 0.96231317 0.97774604 0.97405153 0.94491605 0.93593689 0.94309216\n",
            " 0.9357966  0.93621748 0.93247615 0.94440161 0.94491605 0.94365333\n",
            " 0.86625737 0.86472762 0.86239231 0.85919636 0.85520077 0.85052866\n",
            " 0.84532797 0.83974743 0.83391917 0.8279565  0.82194674 0.81595665\n",
            " 0.81003267 0.80420655 0.79849601 0.79291028 0.78745264 0.7821216\n",
            " 0.77691364 0.77182394 0.76684636 0.76197582]\n",
            "22 day output [[0.7572071]]\n",
            "23 day input [0.79054158 0.79058839 0.79198969 0.79666091 0.80114531 0.8094601\n",
            " 0.81095495 0.81805519 0.81156215 0.82281989 0.80520926 0.87074673\n",
            " 0.89840056 0.90386588 0.89569124 0.91521696 0.90409937 0.88256501\n",
            " 0.87233506 0.87537128 0.87971561 0.89924133 0.90321194 0.88695593\n",
            " 0.91559068 0.93203343 0.93801261 0.96038781 0.9673013  0.97131851\n",
            " 0.99140484 0.9661335  0.98000701 0.99803803 1.         0.97225283\n",
            " 0.95029794 0.95090521 0.94927036 0.95417507 0.92395213 0.91904742\n",
            " 0.92124288 0.92255084 0.92516675 0.94048837 0.92311137 0.93011821\n",
            " 0.88064985 0.87112044 0.88321902 0.89952163 0.9132084  0.9204104\n",
            " 0.93790108 0.94000555 0.95403549 0.96025544 0.95950716 0.96240665\n",
            " 0.96189222 0.95314692 0.96394995 0.96554    0.96951517 0.96231317\n",
            " 0.97774604 0.97405153 0.94491605 0.93593689 0.94309216 0.9357966\n",
            " 0.93621748 0.93247615 0.94440161 0.94491605 0.94365333 0.86625737\n",
            " 0.86472762 0.86239231 0.85919636 0.85520077 0.85052866 0.84532797\n",
            " 0.83974743 0.83391917 0.8279565  0.82194674 0.81595665 0.81003267\n",
            " 0.80420655 0.79849601 0.79291028 0.78745264 0.7821216  0.77691364\n",
            " 0.77182394 0.76684636 0.76197582 0.7572071 ]\n",
            "23 day output [[0.75253564]]\n",
            "24 day input [0.79058839 0.79198969 0.79666091 0.80114531 0.8094601  0.81095495\n",
            " 0.81805519 0.81156215 0.82281989 0.80520926 0.87074673 0.89840056\n",
            " 0.90386588 0.89569124 0.91521696 0.90409937 0.88256501 0.87233506\n",
            " 0.87537128 0.87971561 0.89924133 0.90321194 0.88695593 0.91559068\n",
            " 0.93203343 0.93801261 0.96038781 0.9673013  0.97131851 0.99140484\n",
            " 0.9661335  0.98000701 0.99803803 1.         0.97225283 0.95029794\n",
            " 0.95090521 0.94927036 0.95417507 0.92395213 0.91904742 0.92124288\n",
            " 0.92255084 0.92516675 0.94048837 0.92311137 0.93011821 0.88064985\n",
            " 0.87112044 0.88321902 0.89952163 0.9132084  0.9204104  0.93790108\n",
            " 0.94000555 0.95403549 0.96025544 0.95950716 0.96240665 0.96189222\n",
            " 0.95314692 0.96394995 0.96554    0.96951517 0.96231317 0.97774604\n",
            " 0.97405153 0.94491605 0.93593689 0.94309216 0.9357966  0.93621748\n",
            " 0.93247615 0.94440161 0.94491605 0.94365333 0.86625737 0.86472762\n",
            " 0.86239231 0.85919636 0.85520077 0.85052866 0.84532797 0.83974743\n",
            " 0.83391917 0.8279565  0.82194674 0.81595665 0.81003267 0.80420655\n",
            " 0.79849601 0.79291028 0.78745264 0.7821216  0.77691364 0.77182394\n",
            " 0.76684636 0.76197582 0.7572071  0.75253564]\n",
            "24 day output [[0.74795705]]\n",
            "25 day input [0.79198969 0.79666091 0.80114531 0.8094601  0.81095495 0.81805519\n",
            " 0.81156215 0.82281989 0.80520926 0.87074673 0.89840056 0.90386588\n",
            " 0.89569124 0.91521696 0.90409937 0.88256501 0.87233506 0.87537128\n",
            " 0.87971561 0.89924133 0.90321194 0.88695593 0.91559068 0.93203343\n",
            " 0.93801261 0.96038781 0.9673013  0.97131851 0.99140484 0.9661335\n",
            " 0.98000701 0.99803803 1.         0.97225283 0.95029794 0.95090521\n",
            " 0.94927036 0.95417507 0.92395213 0.91904742 0.92124288 0.92255084\n",
            " 0.92516675 0.94048837 0.92311137 0.93011821 0.88064985 0.87112044\n",
            " 0.88321902 0.89952163 0.9132084  0.9204104  0.93790108 0.94000555\n",
            " 0.95403549 0.96025544 0.95950716 0.96240665 0.96189222 0.95314692\n",
            " 0.96394995 0.96554    0.96951517 0.96231317 0.97774604 0.97405153\n",
            " 0.94491605 0.93593689 0.94309216 0.9357966  0.93621748 0.93247615\n",
            " 0.94440161 0.94491605 0.94365333 0.86625737 0.86472762 0.86239231\n",
            " 0.85919636 0.85520077 0.85052866 0.84532797 0.83974743 0.83391917\n",
            " 0.8279565  0.82194674 0.81595665 0.81003267 0.80420655 0.79849601\n",
            " 0.79291028 0.78745264 0.7821216  0.77691364 0.77182394 0.76684636\n",
            " 0.76197582 0.7572071  0.75253564 0.74795705]\n",
            "25 day output [[0.7434675]]\n",
            "26 day input [0.79666091 0.80114531 0.8094601  0.81095495 0.81805519 0.81156215\n",
            " 0.82281989 0.80520926 0.87074673 0.89840056 0.90386588 0.89569124\n",
            " 0.91521696 0.90409937 0.88256501 0.87233506 0.87537128 0.87971561\n",
            " 0.89924133 0.90321194 0.88695593 0.91559068 0.93203343 0.93801261\n",
            " 0.96038781 0.9673013  0.97131851 0.99140484 0.9661335  0.98000701\n",
            " 0.99803803 1.         0.97225283 0.95029794 0.95090521 0.94927036\n",
            " 0.95417507 0.92395213 0.91904742 0.92124288 0.92255084 0.92516675\n",
            " 0.94048837 0.92311137 0.93011821 0.88064985 0.87112044 0.88321902\n",
            " 0.89952163 0.9132084  0.9204104  0.93790108 0.94000555 0.95403549\n",
            " 0.96025544 0.95950716 0.96240665 0.96189222 0.95314692 0.96394995\n",
            " 0.96554    0.96951517 0.96231317 0.97774604 0.97405153 0.94491605\n",
            " 0.93593689 0.94309216 0.9357966  0.93621748 0.93247615 0.94440161\n",
            " 0.94491605 0.94365333 0.86625737 0.86472762 0.86239231 0.85919636\n",
            " 0.85520077 0.85052866 0.84532797 0.83974743 0.83391917 0.8279565\n",
            " 0.82194674 0.81595665 0.81003267 0.80420655 0.79849601 0.79291028\n",
            " 0.78745264 0.7821216  0.77691364 0.77182394 0.76684636 0.76197582\n",
            " 0.7572071  0.75253564 0.74795705 0.74346751]\n",
            "26 day output [[0.7390638]]\n",
            "27 day input [0.80114531 0.8094601  0.81095495 0.81805519 0.81156215 0.82281989\n",
            " 0.80520926 0.87074673 0.89840056 0.90386588 0.89569124 0.91521696\n",
            " 0.90409937 0.88256501 0.87233506 0.87537128 0.87971561 0.89924133\n",
            " 0.90321194 0.88695593 0.91559068 0.93203343 0.93801261 0.96038781\n",
            " 0.9673013  0.97131851 0.99140484 0.9661335  0.98000701 0.99803803\n",
            " 1.         0.97225283 0.95029794 0.95090521 0.94927036 0.95417507\n",
            " 0.92395213 0.91904742 0.92124288 0.92255084 0.92516675 0.94048837\n",
            " 0.92311137 0.93011821 0.88064985 0.87112044 0.88321902 0.89952163\n",
            " 0.9132084  0.9204104  0.93790108 0.94000555 0.95403549 0.96025544\n",
            " 0.95950716 0.96240665 0.96189222 0.95314692 0.96394995 0.96554\n",
            " 0.96951517 0.96231317 0.97774604 0.97405153 0.94491605 0.93593689\n",
            " 0.94309216 0.9357966  0.93621748 0.93247615 0.94440161 0.94491605\n",
            " 0.94365333 0.86625737 0.86472762 0.86239231 0.85919636 0.85520077\n",
            " 0.85052866 0.84532797 0.83974743 0.83391917 0.8279565  0.82194674\n",
            " 0.81595665 0.81003267 0.80420655 0.79849601 0.79291028 0.78745264\n",
            " 0.7821216  0.77691364 0.77182394 0.76684636 0.76197582 0.7572071\n",
            " 0.75253564 0.74795705 0.74346751 0.7390638 ]\n",
            "27 day output [[0.73474336]]\n",
            "28 day input [0.8094601  0.81095495 0.81805519 0.81156215 0.82281989 0.80520926\n",
            " 0.87074673 0.89840056 0.90386588 0.89569124 0.91521696 0.90409937\n",
            " 0.88256501 0.87233506 0.87537128 0.87971561 0.89924133 0.90321194\n",
            " 0.88695593 0.91559068 0.93203343 0.93801261 0.96038781 0.9673013\n",
            " 0.97131851 0.99140484 0.9661335  0.98000701 0.99803803 1.\n",
            " 0.97225283 0.95029794 0.95090521 0.94927036 0.95417507 0.92395213\n",
            " 0.91904742 0.92124288 0.92255084 0.92516675 0.94048837 0.92311137\n",
            " 0.93011821 0.88064985 0.87112044 0.88321902 0.89952163 0.9132084\n",
            " 0.9204104  0.93790108 0.94000555 0.95403549 0.96025544 0.95950716\n",
            " 0.96240665 0.96189222 0.95314692 0.96394995 0.96554    0.96951517\n",
            " 0.96231317 0.97774604 0.97405153 0.94491605 0.93593689 0.94309216\n",
            " 0.9357966  0.93621748 0.93247615 0.94440161 0.94491605 0.94365333\n",
            " 0.86625737 0.86472762 0.86239231 0.85919636 0.85520077 0.85052866\n",
            " 0.84532797 0.83974743 0.83391917 0.8279565  0.82194674 0.81595665\n",
            " 0.81003267 0.80420655 0.79849601 0.79291028 0.78745264 0.7821216\n",
            " 0.77691364 0.77182394 0.76684636 0.76197582 0.7572071  0.75253564\n",
            " 0.74795705 0.74346751 0.7390638  0.73474336]\n",
            "28 day output [[0.7305028]]\n",
            "29 day input [0.81095495 0.81805519 0.81156215 0.82281989 0.80520926 0.87074673\n",
            " 0.89840056 0.90386588 0.89569124 0.91521696 0.90409937 0.88256501\n",
            " 0.87233506 0.87537128 0.87971561 0.89924133 0.90321194 0.88695593\n",
            " 0.91559068 0.93203343 0.93801261 0.96038781 0.9673013  0.97131851\n",
            " 0.99140484 0.9661335  0.98000701 0.99803803 1.         0.97225283\n",
            " 0.95029794 0.95090521 0.94927036 0.95417507 0.92395213 0.91904742\n",
            " 0.92124288 0.92255084 0.92516675 0.94048837 0.92311137 0.93011821\n",
            " 0.88064985 0.87112044 0.88321902 0.89952163 0.9132084  0.9204104\n",
            " 0.93790108 0.94000555 0.95403549 0.96025544 0.95950716 0.96240665\n",
            " 0.96189222 0.95314692 0.96394995 0.96554    0.96951517 0.96231317\n",
            " 0.97774604 0.97405153 0.94491605 0.93593689 0.94309216 0.9357966\n",
            " 0.93621748 0.93247615 0.94440161 0.94491605 0.94365333 0.86625737\n",
            " 0.86472762 0.86239231 0.85919636 0.85520077 0.85052866 0.84532797\n",
            " 0.83974743 0.83391917 0.8279565  0.82194674 0.81595665 0.81003267\n",
            " 0.80420655 0.79849601 0.79291028 0.78745264 0.7821216  0.77691364\n",
            " 0.77182394 0.76684636 0.76197582 0.7572071  0.75253564 0.74795705\n",
            " 0.74346751 0.7390638  0.73474336 0.73050278]\n",
            "29 day output [[0.72634035]]\n",
            "[[0.86625736951828], [0.8647276163101196], [0.8623923063278198], [0.8591963648796082], [0.8552007675170898], [0.8505286574363708], [0.8453279733657837], [0.839747428894043], [0.8339191675186157], [0.82795649766922], [0.8219467401504517], [0.8159566521644592], [0.8100326657295227], [0.8042065501213074], [0.7984960079193115], [0.7929102778434753], [0.7874526381492615], [0.7821215987205505], [0.7769136428833008], [0.7718239426612854], [0.7668463587760925], [0.7619758248329163], [0.7572070956230164], [0.7525356411933899], [0.7479570508003235], [0.7434675097465515], [0.7390637993812561], [0.7347433567047119], [0.7305027842521667], [0.7263403534889221]]\n"
          ]
        }
      ],
      "source": [
        "# demonstrate prediction for next 10 days\n",
        "from numpy import array\n",
        "\n",
        "lst_output=[]\n",
        "n_steps=100\n",
        "i=0\n",
        "while(i<30):\n",
        "\n",
        "    if(len(temp_input)>100):\n",
        "        #print(temp_input)\n",
        "        x_input=numpy.array(temp_input[1:])\n",
        "        print(\"{} day input {}\".format(i,x_input))\n",
        "        x_input=x_input.reshape(1,-1)\n",
        "        x_input = x_input.reshape((1, n_steps, 1))\n",
        "        #print(x_input)\n",
        "        yhat = model.predict(x_input, verbose=0)\n",
        "        print(\"{} day output {}\".format(i,yhat))\n",
        "        temp_input.extend(yhat[0].tolist())\n",
        "        temp_input=temp_input[1:]\n",
        "        #print(temp_input)\n",
        "        lst_output.extend(yhat.tolist())\n",
        "        i=i+1\n",
        "    else:\n",
        "        x_input = x_input.reshape((1, n_steps,1))\n",
        "        yhat = model.predict(x_input, verbose=0)\n",
        "        print(yhat[0])\n",
        "        temp_input.extend(yhat[0].tolist())\n",
        "        print(len(temp_input))\n",
        "        lst_output.extend(yhat.tolist())\n",
        "        i=i+1\n",
        "\n",
        "\n",
        "print(lst_output)"
      ]
    },
    {
      "cell_type": "code",
      "execution_count": null,
      "metadata": {
        "id": "DgeHwvEpj0nA"
      },
      "outputs": [],
      "source": [
        "day_new=numpy.arange(1,101)\n",
        "day_pred=numpy.arange(101,131)"
      ]
    },
    {
      "cell_type": "code",
      "execution_count": null,
      "metadata": {
        "colab": {
          "base_uri": "https://localhost:8080/"
        },
        "id": "_aK9k0fnj0qs",
        "outputId": "e63d253e-261c-447d-8fc5-b0d0747d6ac7"
      },
      "outputs": [
        {
          "output_type": "execute_result",
          "data": {
            "text/plain": [
              "2517"
            ]
          },
          "metadata": {},
          "execution_count": 32
        }
      ],
      "source": [
        "b=len(df1)\n",
        "b"
      ]
    },
    {
      "cell_type": "code",
      "execution_count": null,
      "metadata": {
        "colab": {
          "base_uri": "https://localhost:8080/",
          "height": 448
        },
        "id": "3n1di2Lhj0uN",
        "outputId": "090239db-ec52-4281-a185-6440394803c7"
      },
      "outputs": [
        {
          "output_type": "execute_result",
          "data": {
            "text/plain": [
              "[<matplotlib.lines.Line2D at 0x78851f90ec50>]"
            ]
          },
          "metadata": {},
          "execution_count": 33
        },
        {
          "output_type": "display_data",
          "data": {
            "text/plain": [
              "<Figure size 640x480 with 1 Axes>"
            ],
            "image/png": "[encoded data removed]"
          },
          "metadata": {}
        }
      ],
      "source": [
        "plt.plot(day_new,scaler.inverse_transform(df1[b-100:]))\n",
        "plt.plot(day_pred,scaler.inverse_transform(lst_output))"
      ]
    },
    {
      "cell_type": "code",
      "execution_count": null,
      "metadata": {
        "colab": {
          "base_uri": "https://localhost:8080/",
          "height": 448
        },
        "id": "nSy-W7mxj0xw",
        "outputId": "c923306a-674c-4ab6-c58d-7a53672c6b5e"
      },
      "outputs": [
        {
          "output_type": "execute_result",
          "data": {
            "text/plain": [
              "[<matplotlib.lines.Line2D at 0x78852da4e6b0>]"
            ]
          },
          "metadata": {},
          "execution_count": 34
        },
        {
          "output_type": "display_data",
          "data": {
            "text/plain": [
              "<Figure size 640x480 with 1 Axes>"
            ],
            "image/png": "[encoded data removed]"
          },
          "metadata": {}
        }
      ],
      "source": [
        "df3=df1.tolist()\n",
        "df3.extend(lst_output)\n",
        "plt.plot(df3[b-100:])"
      ]
    },
    {
      "cell_type": "code",
      "execution_count": null,
      "metadata": {
        "id": "yG0FZVSjkHYr"
      },
      "outputs": [],
      "source": [
        "df3=scaler.inverse_transform(df3).tolist()"
      ]
    },
    {
      "cell_type": "code",
      "execution_count": null,
      "metadata": {
        "colab": {
          "base_uri": "https://localhost:8080/",
          "height": 448
        },
        "id": "vPt0jdVlkHi1",
        "outputId": "12fe603e-fd7f-448c-866a-f6eea541ffd3"
      },
      "outputs": [
        {
          "output_type": "execute_result",
          "data": {
            "text/plain": [
              "[<matplotlib.lines.Line2D at 0x78852da5e320>]"
            ]
          },
          "metadata": {},
          "execution_count": 36
        },
        {
          "output_type": "display_data",
          "data": {
            "text/plain": [
              "<Figure size 640x480 with 1 Axes>"
            ],
            "image/png": "[encoded data removed]"
          },
          "metadata": {}
        }
      ],
      "source": [
        "plt.plot(df3)"
      ]
    },
    {
      "cell_type": "code",
      "execution_count": null,
      "metadata": {
        "id": "oBE3JnX-HArF"
      },
      "outputs": [],
      "source": [
        "model.save('model.keras')"
      ]
    },
    {
      "cell_type": "code",
      "execution_count": null,
      "metadata": {
        "colab": {
          "base_uri": "https://localhost:8080/"
        },
        "id": "gRS0tSLKHtC5",
        "outputId": "252facea-3d79-497a-dc5f-0fce77105700"
      },
      "outputs": [
        {
          "output_type": "execute_result",
          "data": {
            "text/plain": [
              "['model.pkl']"
            ]
          },
          "metadata": {},
          "execution_count": 38
        }
      ],
      "source": [
        "import joblib\n",
        "\n",
        "# Assume 'model' is your trained model\n",
        "joblib.dump(model, 'model.pkl')"
      ]
    }
  ],
  "metadata": {
    "colab": {
      "provenance": []
    },
    "kernelspec": {
      "display_name": "Python 3",
      "name": "python3"
    },
    "language_info": {
      "name": "python"
    }
  },
  "nbformat": 4,
  "nbformat_minor": 0
}